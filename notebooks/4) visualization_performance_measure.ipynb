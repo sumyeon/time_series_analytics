{
 "cells": [
  {
   "cell_type": "markdown",
   "metadata": {},
   "source": [
    "<font size=6> <b> Week #4 : Visualization, Performance Measure </b> </font>\n",
    "<div class=\"alert alert-block alert-success\">\n",
    "  Financial Data의 Interactive한 Visualization과 Prediction Measure를 알아보자!<br>\n",
    "</div>\n",
    "</div>\n",
    "\n",
    "<p style=\"text-align:right;\"> sumyeon@gmail.com </p>\n"
   ]
  },
  {
   "cell_type": "markdown",
   "metadata": {},
   "source": [
    "<hr>"
   ]
  },
  {
   "cell_type": "markdown",
   "metadata": {},
   "source": [
    "- 필요 모듈 import, 한글 폰트 로딩"
   ]
  },
  {
   "cell_type": "markdown",
   "metadata": {},
   "source": [
    "> 필요 모듈 import"
   ]
  },
  {
   "cell_type": "code",
   "execution_count": 121,
   "metadata": {
    "execution": {
     "iopub.execute_input": "2022-06-22T12:37:27.622415Z",
     "iopub.status.busy": "2022-06-22T12:37:27.622415Z",
     "iopub.status.idle": "2022-06-22T12:37:27.641403Z",
     "shell.execute_reply": "2022-06-22T12:37:27.640402Z",
     "shell.execute_reply.started": "2022-06-22T12:37:27.622415Z"
    }
   },
   "outputs": [],
   "source": [
    "import pandas as pd\n",
    "import numpy as np\n",
    "import matplotlib.pyplot as plt\n",
    "\n",
    "import datetime\n",
    "import pandas_datareader.data as pdrdata\n",
    "from tqdm.notebook import tqdm\n",
    "\n",
    "%matplotlib inline"
   ]
  },
  {
   "cell_type": "markdown",
   "metadata": {},
   "source": [
    "> 한글 폰트 로딩"
   ]
  },
  {
   "cell_type": "code",
   "execution_count": 2,
   "metadata": {
    "execution": {
     "iopub.execute_input": "2022-06-22T11:08:18.525933Z",
     "iopub.status.busy": "2022-06-22T11:08:18.525933Z",
     "iopub.status.idle": "2022-06-22T11:08:18.555933Z",
     "shell.execute_reply": "2022-06-22T11:08:18.554931Z",
     "shell.execute_reply.started": "2022-06-22T11:08:18.525933Z"
    }
   },
   "outputs": [],
   "source": [
    "import matplotlib.font_manager as fm\n",
    "font_name = fm.FontProperties(fname='C:\\\\WINDOWS\\\\Fonts\\\\HYWULM.TTF').get_name()\n",
    "plt.rc('font', family=font_name)"
   ]
  },
  {
   "cell_type": "markdown",
   "metadata": {},
   "source": [
    "> supress annoying warnings"
   ]
  },
  {
   "cell_type": "code",
   "execution_count": 112,
   "metadata": {
    "execution": {
     "iopub.execute_input": "2022-06-22T12:33:23.364124Z",
     "iopub.status.busy": "2022-06-22T12:33:23.364124Z",
     "iopub.status.idle": "2022-06-22T12:33:23.379112Z",
     "shell.execute_reply": "2022-06-22T12:33:23.377118Z",
     "shell.execute_reply.started": "2022-06-22T12:33:23.364124Z"
    }
   },
   "outputs": [],
   "source": [
    "import warnings\n",
    "warnings.simplefilter(action='ignore', category=FutureWarning)\n",
    "warnings.simplefilter(action='ignore', category=RuntimeWarning)\n",
    "warnings.filterwarnings(\"ignore\")\n",
    "#warnings.simplefilter(action='ignore', category=HessianInversionWarning)"
   ]
  },
  {
   "cell_type": "markdown",
   "metadata": {},
   "source": [
    "<hr>"
   ]
  },
  {
   "cell_type": "markdown",
   "metadata": {},
   "source": [
    "- 이전 학습 시간에 공유된 financial data loading 부분"
   ]
  },
  {
   "cell_type": "code",
   "execution_count": 4,
   "metadata": {
    "execution": {
     "iopub.execute_input": "2022-06-22T11:08:22.368445Z",
     "iopub.status.busy": "2022-06-22T11:08:22.367448Z",
     "iopub.status.idle": "2022-06-22T11:08:24.182793Z",
     "shell.execute_reply": "2022-06-22T11:08:24.181817Z",
     "shell.execute_reply.started": "2022-06-22T11:08:22.368445Z"
    }
   },
   "outputs": [],
   "source": [
    "metadf = pd.read_html('http://kind.krx.co.kr/corpgeneral/corpList.do?method=download&searchType=13', header=0)[0]\n",
    "metadf['종목코드'] = (metadf['종목코드'].apply(lambda x : f\"{x:06}\")).astype(str)\n",
    "name2code_dict = dict(zip( metadf['회사명'].values, metadf['종목코드'].values))\n",
    "code2name_dict = dict(zip( metadf['종목코드'].values, metadf['회사명'].values))"
   ]
  },
  {
   "cell_type": "code",
   "execution_count": 5,
   "metadata": {
    "execution": {
     "iopub.execute_input": "2022-06-22T11:08:24.184811Z",
     "iopub.status.busy": "2022-06-22T11:08:24.184811Z",
     "iopub.status.idle": "2022-06-22T11:08:24.198791Z",
     "shell.execute_reply": "2022-06-22T11:08:24.196791Z",
     "shell.execute_reply.started": "2022-06-22T11:08:24.184811Z"
    }
   },
   "outputs": [],
   "source": [
    "def getStockHistory(target, start='2019-01-01', end=datetime.datetime.now().strftime('%Y-%m-%d')):\n",
    "    \"\"\"\n",
    "    return the stock histories of the companies given\n",
    "    \n",
    "    Parameters:\n",
    "        target   : str, int - a company name (str) or code (int)\n",
    "        start    : str - start date string\n",
    "        end      : str - end date string\n",
    "        \n",
    "    Returns:\n",
    "        list : list of stock history data frame\n",
    "    \"\"\"\n",
    "    \n",
    "    # name <-> code \n",
    "    if isinstance(target, str) and not target.isnumeric():\n",
    "        tickername = target\n",
    "        ticker = name2code_dict[target]\n",
    "    else:\n",
    "        ticker = target\n",
    "        tickername = code2name_dict[target]\n",
    "        \n",
    "    stockdf = pdrdata.DataReader(ticker, 'naver', start, end)\n",
    "    for col in stockdf:\n",
    "        stockdf[col] = stockdf[col].astype(int)\n",
    "    stockdf = stockdf.assign(tickername=tickername, tickercode=ticker)\n",
    "    return stockdf"
   ]
  },
  {
   "cell_type": "code",
   "execution_count": 6,
   "metadata": {
    "execution": {
     "iopub.execute_input": "2022-06-22T11:08:24.952698Z",
     "iopub.status.busy": "2022-06-22T11:08:24.950697Z",
     "iopub.status.idle": "2022-06-22T11:08:25.121228Z",
     "shell.execute_reply": "2022-06-22T11:08:25.119273Z",
     "shell.execute_reply.started": "2022-06-22T11:08:24.952698Z"
    }
   },
   "outputs": [
    {
     "data": {
      "text/html": [
       "<div>\n",
       "<style scoped>\n",
       "    .dataframe tbody tr th:only-of-type {\n",
       "        vertical-align: middle;\n",
       "    }\n",
       "\n",
       "    .dataframe tbody tr th {\n",
       "        vertical-align: top;\n",
       "    }\n",
       "\n",
       "    .dataframe thead th {\n",
       "        text-align: right;\n",
       "    }\n",
       "</style>\n",
       "<table border=\"1\" class=\"dataframe\">\n",
       "  <thead>\n",
       "    <tr style=\"text-align: right;\">\n",
       "      <th></th>\n",
       "      <th>Open</th>\n",
       "      <th>High</th>\n",
       "      <th>Low</th>\n",
       "      <th>Close</th>\n",
       "      <th>Volume</th>\n",
       "      <th>tickername</th>\n",
       "      <th>tickercode</th>\n",
       "    </tr>\n",
       "    <tr>\n",
       "      <th>Date</th>\n",
       "      <th></th>\n",
       "      <th></th>\n",
       "      <th></th>\n",
       "      <th></th>\n",
       "      <th></th>\n",
       "      <th></th>\n",
       "      <th></th>\n",
       "    </tr>\n",
       "  </thead>\n",
       "  <tbody>\n",
       "    <tr>\n",
       "      <th>2022-01-03</th>\n",
       "      <td>79400</td>\n",
       "      <td>79800</td>\n",
       "      <td>78200</td>\n",
       "      <td>78600</td>\n",
       "      <td>13502112</td>\n",
       "      <td>삼성전자</td>\n",
       "      <td>005930</td>\n",
       "    </tr>\n",
       "    <tr>\n",
       "      <th>2022-01-04</th>\n",
       "      <td>78800</td>\n",
       "      <td>79200</td>\n",
       "      <td>78300</td>\n",
       "      <td>78700</td>\n",
       "      <td>12427416</td>\n",
       "      <td>삼성전자</td>\n",
       "      <td>005930</td>\n",
       "    </tr>\n",
       "    <tr>\n",
       "      <th>2022-01-05</th>\n",
       "      <td>78800</td>\n",
       "      <td>79000</td>\n",
       "      <td>76400</td>\n",
       "      <td>77400</td>\n",
       "      <td>25470640</td>\n",
       "      <td>삼성전자</td>\n",
       "      <td>005930</td>\n",
       "    </tr>\n",
       "    <tr>\n",
       "      <th>2022-01-06</th>\n",
       "      <td>76700</td>\n",
       "      <td>77600</td>\n",
       "      <td>76600</td>\n",
       "      <td>76900</td>\n",
       "      <td>12931954</td>\n",
       "      <td>삼성전자</td>\n",
       "      <td>005930</td>\n",
       "    </tr>\n",
       "    <tr>\n",
       "      <th>2022-01-07</th>\n",
       "      <td>78100</td>\n",
       "      <td>78400</td>\n",
       "      <td>77400</td>\n",
       "      <td>78300</td>\n",
       "      <td>15163757</td>\n",
       "      <td>삼성전자</td>\n",
       "      <td>005930</td>\n",
       "    </tr>\n",
       "    <tr>\n",
       "      <th>...</th>\n",
       "      <td>...</td>\n",
       "      <td>...</td>\n",
       "      <td>...</td>\n",
       "      <td>...</td>\n",
       "      <td>...</td>\n",
       "      <td>...</td>\n",
       "      <td>...</td>\n",
       "    </tr>\n",
       "    <tr>\n",
       "      <th>2022-06-16</th>\n",
       "      <td>61300</td>\n",
       "      <td>61800</td>\n",
       "      <td>60500</td>\n",
       "      <td>60900</td>\n",
       "      <td>23394895</td>\n",
       "      <td>삼성전자</td>\n",
       "      <td>005930</td>\n",
       "    </tr>\n",
       "    <tr>\n",
       "      <th>2022-06-17</th>\n",
       "      <td>59400</td>\n",
       "      <td>59900</td>\n",
       "      <td>59400</td>\n",
       "      <td>59800</td>\n",
       "      <td>29053450</td>\n",
       "      <td>삼성전자</td>\n",
       "      <td>005930</td>\n",
       "    </tr>\n",
       "    <tr>\n",
       "      <th>2022-06-20</th>\n",
       "      <td>59800</td>\n",
       "      <td>59900</td>\n",
       "      <td>58100</td>\n",
       "      <td>58700</td>\n",
       "      <td>34111306</td>\n",
       "      <td>삼성전자</td>\n",
       "      <td>005930</td>\n",
       "    </tr>\n",
       "    <tr>\n",
       "      <th>2022-06-21</th>\n",
       "      <td>58700</td>\n",
       "      <td>59200</td>\n",
       "      <td>58200</td>\n",
       "      <td>58500</td>\n",
       "      <td>25148109</td>\n",
       "      <td>삼성전자</td>\n",
       "      <td>005930</td>\n",
       "    </tr>\n",
       "    <tr>\n",
       "      <th>2022-06-22</th>\n",
       "      <td>59000</td>\n",
       "      <td>59100</td>\n",
       "      <td>57600</td>\n",
       "      <td>57600</td>\n",
       "      <td>22955977</td>\n",
       "      <td>삼성전자</td>\n",
       "      <td>005930</td>\n",
       "    </tr>\n",
       "  </tbody>\n",
       "</table>\n",
       "<p>115 rows × 7 columns</p>\n",
       "</div>"
      ],
      "text/plain": [
       "             Open   High    Low  Close    Volume tickername tickercode\n",
       "Date                                                                  \n",
       "2022-01-03  79400  79800  78200  78600  13502112       삼성전자     005930\n",
       "2022-01-04  78800  79200  78300  78700  12427416       삼성전자     005930\n",
       "2022-01-05  78800  79000  76400  77400  25470640       삼성전자     005930\n",
       "2022-01-06  76700  77600  76600  76900  12931954       삼성전자     005930\n",
       "2022-01-07  78100  78400  77400  78300  15163757       삼성전자     005930\n",
       "...           ...    ...    ...    ...       ...        ...        ...\n",
       "2022-06-16  61300  61800  60500  60900  23394895       삼성전자     005930\n",
       "2022-06-17  59400  59900  59400  59800  29053450       삼성전자     005930\n",
       "2022-06-20  59800  59900  58100  58700  34111306       삼성전자     005930\n",
       "2022-06-21  58700  59200  58200  58500  25148109       삼성전자     005930\n",
       "2022-06-22  59000  59100  57600  57600  22955977       삼성전자     005930\n",
       "\n",
       "[115 rows x 7 columns]"
      ]
     },
     "execution_count": 6,
     "metadata": {},
     "output_type": "execute_result"
    }
   ],
   "source": [
    "getStockHistory(\"삼성전자\", start='2022-01-01')"
   ]
  },
  {
   "cell_type": "markdown",
   "metadata": {},
   "source": [
    "<hr>"
   ]
  },
  {
   "cell_type": "markdown",
   "metadata": {},
   "source": [
    "# 금융 데이터 챠트를 그려보자"
   ]
  },
  {
   "cell_type": "markdown",
   "metadata": {},
   "source": [
    "## pandas 챠트 그려보기 "
   ]
  },
  {
   "cell_type": "code",
   "execution_count": 7,
   "metadata": {
    "execution": {
     "iopub.execute_input": "2022-06-22T11:08:36.865411Z",
     "iopub.status.busy": "2022-06-22T11:08:36.864399Z",
     "iopub.status.idle": "2022-06-22T11:08:36.875343Z",
     "shell.execute_reply": "2022-06-22T11:08:36.873345Z",
     "shell.execute_reply.started": "2022-06-22T11:08:36.865411Z"
    }
   },
   "outputs": [],
   "source": [
    "name = \"두산퓨얼셀\""
   ]
  },
  {
   "cell_type": "code",
   "execution_count": 8,
   "metadata": {
    "execution": {
     "iopub.execute_input": "2022-06-22T11:08:37.346978Z",
     "iopub.status.busy": "2022-06-22T11:08:37.345965Z",
     "iopub.status.idle": "2022-06-22T11:08:37.447964Z",
     "shell.execute_reply": "2022-06-22T11:08:37.446964Z",
     "shell.execute_reply.started": "2022-06-22T11:08:37.346978Z"
    }
   },
   "outputs": [],
   "source": [
    "stockdf = getStockHistory(name, start='2019-01-01')"
   ]
  },
  {
   "cell_type": "code",
   "execution_count": 9,
   "metadata": {
    "execution": {
     "iopub.execute_input": "2022-06-22T11:08:38.001551Z",
     "iopub.status.busy": "2022-06-22T11:08:38.001551Z",
     "iopub.status.idle": "2022-06-22T11:08:38.341542Z",
     "shell.execute_reply": "2022-06-22T11:08:38.339538Z",
     "shell.execute_reply.started": "2022-06-22T11:08:38.001551Z"
    }
   },
   "outputs": [
    {
     "data": {
      "text/plain": [
       "<AxesSubplot:xlabel='Date'>"
      ]
     },
     "execution_count": 9,
     "metadata": {},
     "output_type": "execute_result"
    },
    {
     "data": {
      "image/png": "[encoded data removed]",
      "text/plain": [
       "<Figure size 864x288 with 1 Axes>"
      ]
     },
     "metadata": {
      "needs_background": "light"
     },
     "output_type": "display_data"
    }
   ],
   "source": [
    "stockdf['Close'].plot(figsize=(12,4))"
   ]
  },
  {
   "cell_type": "markdown",
   "metadata": {},
   "source": [
    "## 회사 챠트 만들기 - 자유롭게 회사 선택"
   ]
  },
  {
   "cell_type": "markdown",
   "metadata": {},
   "source": [
    "- ipywidget을 활용해서 interactive하게 종목과 날짜를 바꾸어 볼 수 있는 그래프 그리기"
   ]
  },
  {
   "cell_type": "markdown",
   "metadata": {},
   "source": [
    "> widgets은 ipython(jupyter)에 interactive한 요소를 추가 해주는 기능"
   ]
  },
  {
   "cell_type": "code",
   "execution_count": 10,
   "metadata": {
    "execution": {
     "iopub.execute_input": "2022-06-22T11:08:48.141210Z",
     "iopub.status.busy": "2022-06-22T11:08:48.141210Z",
     "iopub.status.idle": "2022-06-22T11:08:48.156208Z",
     "shell.execute_reply": "2022-06-22T11:08:48.154212Z",
     "shell.execute_reply.started": "2022-06-22T11:08:48.141210Z"
    }
   },
   "outputs": [],
   "source": [
    "import ipywidgets as widgets"
   ]
  },
  {
   "cell_type": "markdown",
   "metadata": {},
   "source": [
    "> <b> 실제 그래프를 표시할 함수 만들기 </b> <br>\n",
    "> widget에서 리턴되는 내용들이 argument가 되어, 수행하는 함수 만들기. widget값이 바뀔 경우 함수가 자동 재수행됨"
   ]
  },
  {
   "cell_type": "code",
   "execution_count": 20,
   "metadata": {
    "execution": {
     "iopub.execute_input": "2022-06-22T11:11:45.756505Z",
     "iopub.status.busy": "2022-06-22T11:11:45.756505Z",
     "iopub.status.idle": "2022-06-22T11:11:45.778503Z",
     "shell.execute_reply": "2022-06-22T11:11:45.776513Z",
     "shell.execute_reply.started": "2022-06-22T11:11:45.756505Z"
    }
   },
   "outputs": [],
   "source": [
    "def draw_chart(ticker, date_range, values):\n",
    "    fig,ax = plt.subplots(nrows=1, ncols=1, figsize=(16,6))\n",
    "    stockdf = getStockHistory(ticker, date_range[0].strftime(\"%Y-%m-%d\"), date_range[1].strftime(\"%Y-%m-%d\"))\n",
    "    stockdf = stockdf.resample('D').fillna('ffill')\n",
    "    stockdf[list(values)].plot(ax=ax)\n",
    "\n",
    "    xtick = pd.date_range(start=stockdf.index.min( ), end=stockdf.index.max( ), freq='W' )\n",
    "    ax.set_xticks( xtick, minor=True )\n",
    "    ax.grid('on', which='minor', axis='x' )\n",
    "    ax.grid('on', which='major', axis='x' )"
   ]
  },
  {
   "cell_type": "markdown",
   "metadata": {},
   "source": [
    "> <b> 표시 기간/날짜를 선택하는 widget 만들기 </b> <br>\n",
    "> 먼저, 전체 기간의 시작과 끝을 정하고, 해당 기간을 선택할 option으로 만들어 제공하면 선택 결과가 tuple로 return됨"
   ]
  },
  {
   "cell_type": "code",
   "execution_count": 21,
   "metadata": {
    "execution": {
     "iopub.execute_input": "2022-06-22T11:11:47.341422Z",
     "iopub.status.busy": "2022-06-22T11:11:47.340415Z",
     "iopub.status.idle": "2022-06-22T11:11:47.483417Z",
     "shell.execute_reply": "2022-06-22T11:11:47.482426Z",
     "shell.execute_reply.started": "2022-06-22T11:11:47.341422Z"
    }
   },
   "outputs": [],
   "source": [
    "start_date = datetime.datetime(2019, 1, 1)\n",
    "end_date = datetime.datetime.now().date()\n",
    "dates = pd.date_range(start_date, end_date, freq='D')\n",
    "\n",
    "options = [(date.strftime(' %Y-%m-%d '), date) for date in dates]\n",
    "index = (0, len(options)-1)\n",
    "\n",
    "selection_range_slider = widgets.SelectionRangeSlider(\n",
    "    options=options,\n",
    "    index=index,\n",
    "    description='Dates',\n",
    "    orientation='horizontal',\n",
    "    layout={'width': '500px'}\n",
    ")"
   ]
  },
  {
   "cell_type": "markdown",
   "metadata": {},
   "source": [
    "> <b> 표시할 내용 선택 widget 만들기 </b> <br>\n",
    "> 여러 값들 중에서 선택한 내용이 리스트로 전달됨. 복수 선택 가능"
   ]
  },
  {
   "cell_type": "code",
   "execution_count": 22,
   "metadata": {
    "execution": {
     "iopub.execute_input": "2022-06-22T11:11:48.841283Z",
     "iopub.status.busy": "2022-06-22T11:11:48.841283Z",
     "iopub.status.idle": "2022-06-22T11:11:48.856289Z",
     "shell.execute_reply": "2022-06-22T11:11:48.854298Z",
     "shell.execute_reply.started": "2022-06-22T11:11:48.841283Z"
    }
   },
   "outputs": [],
   "source": [
    "selection_values = widgets.SelectMultiple(\n",
    "    options=['Open','Close','High','Low'],\n",
    "    value=['Close'],\n",
    "    description='Values',\n",
    "    disabled=False\n",
    ")"
   ]
  },
  {
   "cell_type": "markdown",
   "metadata": {},
   "source": [
    "> <b> widgets.ineract를 통해 interactive한 함수 기능 제공 </b> <br>\n",
    "> 준비해둔 widget과 함수를 연결해주는 내용"
   ]
  },
  {
   "cell_type": "code",
   "execution_count": 23,
   "metadata": {
    "execution": {
     "iopub.execute_input": "2022-06-22T11:11:49.906972Z",
     "iopub.status.busy": "2022-06-22T11:11:49.906972Z",
     "iopub.status.idle": "2022-06-22T11:11:50.905968Z",
     "shell.execute_reply": "2022-06-22T11:11:50.903969Z",
     "shell.execute_reply.started": "2022-06-22T11:11:49.906972Z"
    }
   },
   "outputs": [
    {
     "data": {
      "application/vnd.jupyter.widget-view+json": {
       "model_id": "dbb675090b2a4b25bf641e8069649a4e",
       "version_major": 2,
       "version_minor": 0
      },
      "text/plain": [
       "interactive(children=(Dropdown(description='ticker', options=('삼성전자', '두산퓨얼셀', 'LG에너지솔루션'), value='삼성전자'), Sel…"
      ]
     },
     "metadata": {},
     "output_type": "display_data"
    },
    {
     "data": {
      "text/plain": [
       "<function __main__.draw_chart(ticker, date_range, values)>"
      ]
     },
     "execution_count": 23,
     "metadata": {},
     "output_type": "execute_result"
    }
   ],
   "source": [
    "ticker_candidate = ['삼성전자','두산퓨얼셀','LG에너지솔루션']\n",
    "widgets.interact(draw_chart, ticker=ticker_candidate , date_range=selection_range_slider, values=selection_values)"
   ]
  },
  {
   "cell_type": "markdown",
   "metadata": {},
   "source": [
    "<div class=\"alert alert-block alert-info\">\n",
    "<b> Tip:</b> draw_chart 함수를 개선해서, 거래량을 추가하거나 또는 두 개 이상의 회사 챠트를 그리는 것 도 가능 </b> <br>\n",
    "=> 나만의 주가 대시보드를 만들어보는 프로젝트도 가능!!\n",
    "</div>"
   ]
  },
  {
   "cell_type": "markdown",
   "metadata": {},
   "source": [
    "<hr>"
   ]
  },
  {
   "cell_type": "markdown",
   "metadata": {},
   "source": [
    "# Financial Data Prediction "
   ]
  },
  {
   "cell_type": "markdown",
   "metadata": {},
   "source": [
    "## prediction algorithm template"
   ]
  },
  {
   "cell_type": "markdown",
   "metadata": {},
   "source": [
    "- OHLCV (Open-High-Low-Close-Volume)를 사용해서 매수/매도를 추천"
   ]
  },
  {
   "cell_type": "markdown",
   "metadata": {},
   "source": [
    "- Stock Data라는 가정하에 추천된 매수/매도에 맞추어 투자를 하고 그 결과를 가지고 알고리즘을 평가"
   ]
  },
  {
   "cell_type": "markdown",
   "metadata": {},
   "source": [
    "# Reference Algorithm \n",
    "> 미래를 미리 알고 있어 정확한 투자를 할 수 있는 알고리즘을 레퍼런스(비교) 알고리즘으로 상정 <br>\n",
    "> 구체적으로는 (3일 연속) 상승이 예상되면 매수 후 가격 하락이 시작되기 직전 매도 <br>> \n",
    "suboptimal : 미래의 급등락을 정확하게 맞출 수 있으므로 비교 가능한 상황에서는 거의 최고 성능의 알고리즘"
   ]
  },
  {
   "cell_type": "markdown",
   "metadata": {},
   "source": [
    " - 주식 정보를 가져오자 <br>\n",
    " "
   ]
  },
  {
   "cell_type": "code",
   "execution_count": 50,
   "metadata": {
    "execution": {
     "iopub.execute_input": "2022-06-22T11:43:29.736525Z",
     "iopub.status.busy": "2022-06-22T11:43:29.736525Z",
     "iopub.status.idle": "2022-06-22T11:43:29.848510Z",
     "shell.execute_reply": "2022-06-22T11:43:29.846520Z",
     "shell.execute_reply.started": "2022-06-22T11:43:29.736525Z"
    }
   },
   "outputs": [],
   "source": [
    "name = \"삼성전자\"\n",
    "stockdf = getStockHistory(name, start='2019-01-01')"
   ]
  },
  {
   "cell_type": "code",
   "execution_count": 36,
   "metadata": {
    "execution": {
     "iopub.execute_input": "2022-06-22T11:35:21.334004Z",
     "iopub.status.busy": "2022-06-22T11:35:21.334004Z",
     "iopub.status.idle": "2022-06-22T11:35:21.365003Z",
     "shell.execute_reply": "2022-06-22T11:35:21.364019Z",
     "shell.execute_reply.started": "2022-06-22T11:35:21.334004Z"
    }
   },
   "outputs": [
    {
     "data": {
      "text/html": [
       "<div>\n",
       "<style scoped>\n",
       "    .dataframe tbody tr th:only-of-type {\n",
       "        vertical-align: middle;\n",
       "    }\n",
       "\n",
       "    .dataframe tbody tr th {\n",
       "        vertical-align: top;\n",
       "    }\n",
       "\n",
       "    .dataframe thead th {\n",
       "        text-align: right;\n",
       "    }\n",
       "</style>\n",
       "<table border=\"1\" class=\"dataframe\">\n",
       "  <thead>\n",
       "    <tr style=\"text-align: right;\">\n",
       "      <th></th>\n",
       "      <th>Open</th>\n",
       "      <th>High</th>\n",
       "      <th>Low</th>\n",
       "      <th>Close</th>\n",
       "      <th>Volume</th>\n",
       "      <th>tickername</th>\n",
       "      <th>tickercode</th>\n",
       "    </tr>\n",
       "    <tr>\n",
       "      <th>Date</th>\n",
       "      <th></th>\n",
       "      <th></th>\n",
       "      <th></th>\n",
       "      <th></th>\n",
       "      <th></th>\n",
       "      <th></th>\n",
       "      <th></th>\n",
       "    </tr>\n",
       "  </thead>\n",
       "  <tbody>\n",
       "    <tr>\n",
       "      <th>2019-01-02</th>\n",
       "      <td>39400</td>\n",
       "      <td>39400</td>\n",
       "      <td>38550</td>\n",
       "      <td>38750</td>\n",
       "      <td>7847664</td>\n",
       "      <td>삼성전자</td>\n",
       "      <td>005930</td>\n",
       "    </tr>\n",
       "    <tr>\n",
       "      <th>2019-01-03</th>\n",
       "      <td>38300</td>\n",
       "      <td>38550</td>\n",
       "      <td>37450</td>\n",
       "      <td>37600</td>\n",
       "      <td>12471493</td>\n",
       "      <td>삼성전자</td>\n",
       "      <td>005930</td>\n",
       "    </tr>\n",
       "    <tr>\n",
       "      <th>2019-01-04</th>\n",
       "      <td>37450</td>\n",
       "      <td>37600</td>\n",
       "      <td>36850</td>\n",
       "      <td>37450</td>\n",
       "      <td>14108958</td>\n",
       "      <td>삼성전자</td>\n",
       "      <td>005930</td>\n",
       "    </tr>\n",
       "    <tr>\n",
       "      <th>2019-01-07</th>\n",
       "      <td>38000</td>\n",
       "      <td>38900</td>\n",
       "      <td>37800</td>\n",
       "      <td>38750</td>\n",
       "      <td>12748997</td>\n",
       "      <td>삼성전자</td>\n",
       "      <td>005930</td>\n",
       "    </tr>\n",
       "    <tr>\n",
       "      <th>2019-01-08</th>\n",
       "      <td>38000</td>\n",
       "      <td>39200</td>\n",
       "      <td>37950</td>\n",
       "      <td>38100</td>\n",
       "      <td>12756554</td>\n",
       "      <td>삼성전자</td>\n",
       "      <td>005930</td>\n",
       "    </tr>\n",
       "    <tr>\n",
       "      <th>2019-01-09</th>\n",
       "      <td>38650</td>\n",
       "      <td>39600</td>\n",
       "      <td>38300</td>\n",
       "      <td>39600</td>\n",
       "      <td>17452708</td>\n",
       "      <td>삼성전자</td>\n",
       "      <td>005930</td>\n",
       "    </tr>\n",
       "    <tr>\n",
       "      <th>2019-01-10</th>\n",
       "      <td>40000</td>\n",
       "      <td>40150</td>\n",
       "      <td>39600</td>\n",
       "      <td>39800</td>\n",
       "      <td>14731699</td>\n",
       "      <td>삼성전자</td>\n",
       "      <td>005930</td>\n",
       "    </tr>\n",
       "    <tr>\n",
       "      <th>2019-01-11</th>\n",
       "      <td>40350</td>\n",
       "      <td>40550</td>\n",
       "      <td>39950</td>\n",
       "      <td>40500</td>\n",
       "      <td>11661063</td>\n",
       "      <td>삼성전자</td>\n",
       "      <td>005930</td>\n",
       "    </tr>\n",
       "    <tr>\n",
       "      <th>2019-01-14</th>\n",
       "      <td>40450</td>\n",
       "      <td>40700</td>\n",
       "      <td>39850</td>\n",
       "      <td>40050</td>\n",
       "      <td>11984996</td>\n",
       "      <td>삼성전자</td>\n",
       "      <td>005930</td>\n",
       "    </tr>\n",
       "    <tr>\n",
       "      <th>2019-01-15</th>\n",
       "      <td>40050</td>\n",
       "      <td>41100</td>\n",
       "      <td>39850</td>\n",
       "      <td>41100</td>\n",
       "      <td>11492756</td>\n",
       "      <td>삼성전자</td>\n",
       "      <td>005930</td>\n",
       "    </tr>\n",
       "  </tbody>\n",
       "</table>\n",
       "</div>"
      ],
      "text/plain": [
       "             Open   High    Low  Close    Volume tickername tickercode\n",
       "Date                                                                  \n",
       "2019-01-02  39400  39400  38550  38750   7847664       삼성전자     005930\n",
       "2019-01-03  38300  38550  37450  37600  12471493       삼성전자     005930\n",
       "2019-01-04  37450  37600  36850  37450  14108958       삼성전자     005930\n",
       "2019-01-07  38000  38900  37800  38750  12748997       삼성전자     005930\n",
       "2019-01-08  38000  39200  37950  38100  12756554       삼성전자     005930\n",
       "2019-01-09  38650  39600  38300  39600  17452708       삼성전자     005930\n",
       "2019-01-10  40000  40150  39600  39800  14731699       삼성전자     005930\n",
       "2019-01-11  40350  40550  39950  40500  11661063       삼성전자     005930\n",
       "2019-01-14  40450  40700  39850  40050  11984996       삼성전자     005930\n",
       "2019-01-15  40050  41100  39850  41100  11492756       삼성전자     005930"
      ]
     },
     "execution_count": 36,
     "metadata": {},
     "output_type": "execute_result"
    }
   ],
   "source": [
    "stockdf[:10]"
   ]
  },
  {
   "cell_type": "markdown",
   "metadata": {},
   "source": [
    " - 주식 정보는 토/일, 휴일이 missing되어 있으므로, time-series 분석을 위해 토/일요일 정보를 forward fill 방식으로 채우자"
   ]
  },
  {
   "cell_type": "code",
   "execution_count": 51,
   "metadata": {
    "execution": {
     "iopub.execute_input": "2022-06-22T11:44:25.430996Z",
     "iopub.status.busy": "2022-06-22T11:44:25.430011Z",
     "iopub.status.idle": "2022-06-22T11:44:25.451027Z",
     "shell.execute_reply": "2022-06-22T11:44:25.450005Z",
     "shell.execute_reply.started": "2022-06-22T11:44:25.430996Z"
    }
   },
   "outputs": [],
   "source": [
    "stockdf= stockdf.resample('D').fillna('ffill')"
   ]
  },
  {
   "cell_type": "code",
   "execution_count": 38,
   "metadata": {
    "execution": {
     "iopub.execute_input": "2022-06-22T11:35:49.219830Z",
     "iopub.status.busy": "2022-06-22T11:35:49.218818Z",
     "iopub.status.idle": "2022-06-22T11:35:49.239816Z",
     "shell.execute_reply": "2022-06-22T11:35:49.238813Z",
     "shell.execute_reply.started": "2022-06-22T11:35:49.219830Z"
    }
   },
   "outputs": [
    {
     "data": {
      "text/html": [
       "<div>\n",
       "<style scoped>\n",
       "    .dataframe tbody tr th:only-of-type {\n",
       "        vertical-align: middle;\n",
       "    }\n",
       "\n",
       "    .dataframe tbody tr th {\n",
       "        vertical-align: top;\n",
       "    }\n",
       "\n",
       "    .dataframe thead th {\n",
       "        text-align: right;\n",
       "    }\n",
       "</style>\n",
       "<table border=\"1\" class=\"dataframe\">\n",
       "  <thead>\n",
       "    <tr style=\"text-align: right;\">\n",
       "      <th></th>\n",
       "      <th>Open</th>\n",
       "      <th>High</th>\n",
       "      <th>Low</th>\n",
       "      <th>Close</th>\n",
       "      <th>Volume</th>\n",
       "      <th>tickername</th>\n",
       "      <th>tickercode</th>\n",
       "    </tr>\n",
       "    <tr>\n",
       "      <th>Date</th>\n",
       "      <th></th>\n",
       "      <th></th>\n",
       "      <th></th>\n",
       "      <th></th>\n",
       "      <th></th>\n",
       "      <th></th>\n",
       "      <th></th>\n",
       "    </tr>\n",
       "  </thead>\n",
       "  <tbody>\n",
       "    <tr>\n",
       "      <th>2019-01-02</th>\n",
       "      <td>39400</td>\n",
       "      <td>39400</td>\n",
       "      <td>38550</td>\n",
       "      <td>38750</td>\n",
       "      <td>7847664</td>\n",
       "      <td>삼성전자</td>\n",
       "      <td>005930</td>\n",
       "    </tr>\n",
       "    <tr>\n",
       "      <th>2019-01-03</th>\n",
       "      <td>38300</td>\n",
       "      <td>38550</td>\n",
       "      <td>37450</td>\n",
       "      <td>37600</td>\n",
       "      <td>12471493</td>\n",
       "      <td>삼성전자</td>\n",
       "      <td>005930</td>\n",
       "    </tr>\n",
       "    <tr>\n",
       "      <th>2019-01-04</th>\n",
       "      <td>37450</td>\n",
       "      <td>37600</td>\n",
       "      <td>36850</td>\n",
       "      <td>37450</td>\n",
       "      <td>14108958</td>\n",
       "      <td>삼성전자</td>\n",
       "      <td>005930</td>\n",
       "    </tr>\n",
       "    <tr>\n",
       "      <th>2019-01-05</th>\n",
       "      <td>37450</td>\n",
       "      <td>37600</td>\n",
       "      <td>36850</td>\n",
       "      <td>37450</td>\n",
       "      <td>14108958</td>\n",
       "      <td>삼성전자</td>\n",
       "      <td>005930</td>\n",
       "    </tr>\n",
       "    <tr>\n",
       "      <th>2019-01-06</th>\n",
       "      <td>37450</td>\n",
       "      <td>37600</td>\n",
       "      <td>36850</td>\n",
       "      <td>37450</td>\n",
       "      <td>14108958</td>\n",
       "      <td>삼성전자</td>\n",
       "      <td>005930</td>\n",
       "    </tr>\n",
       "    <tr>\n",
       "      <th>2019-01-07</th>\n",
       "      <td>38000</td>\n",
       "      <td>38900</td>\n",
       "      <td>37800</td>\n",
       "      <td>38750</td>\n",
       "      <td>12748997</td>\n",
       "      <td>삼성전자</td>\n",
       "      <td>005930</td>\n",
       "    </tr>\n",
       "    <tr>\n",
       "      <th>2019-01-08</th>\n",
       "      <td>38000</td>\n",
       "      <td>39200</td>\n",
       "      <td>37950</td>\n",
       "      <td>38100</td>\n",
       "      <td>12756554</td>\n",
       "      <td>삼성전자</td>\n",
       "      <td>005930</td>\n",
       "    </tr>\n",
       "    <tr>\n",
       "      <th>2019-01-09</th>\n",
       "      <td>38650</td>\n",
       "      <td>39600</td>\n",
       "      <td>38300</td>\n",
       "      <td>39600</td>\n",
       "      <td>17452708</td>\n",
       "      <td>삼성전자</td>\n",
       "      <td>005930</td>\n",
       "    </tr>\n",
       "    <tr>\n",
       "      <th>2019-01-10</th>\n",
       "      <td>40000</td>\n",
       "      <td>40150</td>\n",
       "      <td>39600</td>\n",
       "      <td>39800</td>\n",
       "      <td>14731699</td>\n",
       "      <td>삼성전자</td>\n",
       "      <td>005930</td>\n",
       "    </tr>\n",
       "    <tr>\n",
       "      <th>2019-01-11</th>\n",
       "      <td>40350</td>\n",
       "      <td>40550</td>\n",
       "      <td>39950</td>\n",
       "      <td>40500</td>\n",
       "      <td>11661063</td>\n",
       "      <td>삼성전자</td>\n",
       "      <td>005930</td>\n",
       "    </tr>\n",
       "  </tbody>\n",
       "</table>\n",
       "</div>"
      ],
      "text/plain": [
       "             Open   High    Low  Close    Volume tickername tickercode\n",
       "Date                                                                  \n",
       "2019-01-02  39400  39400  38550  38750   7847664       삼성전자     005930\n",
       "2019-01-03  38300  38550  37450  37600  12471493       삼성전자     005930\n",
       "2019-01-04  37450  37600  36850  37450  14108958       삼성전자     005930\n",
       "2019-01-05  37450  37600  36850  37450  14108958       삼성전자     005930\n",
       "2019-01-06  37450  37600  36850  37450  14108958       삼성전자     005930\n",
       "2019-01-07  38000  38900  37800  38750  12748997       삼성전자     005930\n",
       "2019-01-08  38000  39200  37950  38100  12756554       삼성전자     005930\n",
       "2019-01-09  38650  39600  38300  39600  17452708       삼성전자     005930\n",
       "2019-01-10  40000  40150  39600  39800  14731699       삼성전자     005930\n",
       "2019-01-11  40350  40550  39950  40500  11661063       삼성전자     005930"
      ]
     },
     "execution_count": 38,
     "metadata": {},
     "output_type": "execute_result"
    }
   ],
   "source": [
    "stockdf[:10]"
   ]
  },
  {
   "cell_type": "markdown",
   "metadata": {},
   "source": [
    " - 종가 기준으로 내일 증가량과 그 증감 ratio를 계산해 두자"
   ]
  },
  {
   "cell_type": "code",
   "execution_count": 52,
   "metadata": {
    "execution": {
     "iopub.execute_input": "2022-06-22T11:45:22.512390Z",
     "iopub.status.busy": "2022-06-22T11:45:22.512390Z",
     "iopub.status.idle": "2022-06-22T11:45:22.524375Z",
     "shell.execute_reply": "2022-06-22T11:45:22.523385Z",
     "shell.execute_reply.started": "2022-06-22T11:45:22.512390Z"
    }
   },
   "outputs": [],
   "source": [
    "tdf = stockdf"
   ]
  },
  {
   "cell_type": "code",
   "execution_count": 53,
   "metadata": {
    "execution": {
     "iopub.execute_input": "2022-06-22T11:45:23.393764Z",
     "iopub.status.busy": "2022-06-22T11:45:23.393764Z",
     "iopub.status.idle": "2022-06-22T11:45:23.412755Z",
     "shell.execute_reply": "2022-06-22T11:45:23.411762Z",
     "shell.execute_reply.started": "2022-06-22T11:45:23.393764Z"
    }
   },
   "outputs": [],
   "source": [
    "tdf['tomorrow_delta'] = tdf['Close'].shift(-1) - tdf['Close']   # 내일의 주가를 가져와 오늘의 주가와 차이름 추출\n",
    "tdf['tomorrow_ratio'] = tdf['tomorrow_delta'] / tdf['Close'] * 100 # 오늘의 주가 대비, 내일의 증가량을 확인"
   ]
  },
  {
   "cell_type": "code",
   "execution_count": 54,
   "metadata": {
    "execution": {
     "iopub.execute_input": "2022-06-22T11:45:33.966934Z",
     "iopub.status.busy": "2022-06-22T11:45:33.966934Z",
     "iopub.status.idle": "2022-06-22T11:45:33.988931Z",
     "shell.execute_reply": "2022-06-22T11:45:33.987941Z",
     "shell.execute_reply.started": "2022-06-22T11:45:33.966934Z"
    }
   },
   "outputs": [
    {
     "data": {
      "text/html": [
       "<div>\n",
       "<style scoped>\n",
       "    .dataframe tbody tr th:only-of-type {\n",
       "        vertical-align: middle;\n",
       "    }\n",
       "\n",
       "    .dataframe tbody tr th {\n",
       "        vertical-align: top;\n",
       "    }\n",
       "\n",
       "    .dataframe thead th {\n",
       "        text-align: right;\n",
       "    }\n",
       "</style>\n",
       "<table border=\"1\" class=\"dataframe\">\n",
       "  <thead>\n",
       "    <tr style=\"text-align: right;\">\n",
       "      <th></th>\n",
       "      <th>Open</th>\n",
       "      <th>High</th>\n",
       "      <th>Low</th>\n",
       "      <th>Close</th>\n",
       "      <th>Volume</th>\n",
       "      <th>tickername</th>\n",
       "      <th>tickercode</th>\n",
       "      <th>tomorrow_delta</th>\n",
       "      <th>tomorrow_ratio</th>\n",
       "    </tr>\n",
       "    <tr>\n",
       "      <th>Date</th>\n",
       "      <th></th>\n",
       "      <th></th>\n",
       "      <th></th>\n",
       "      <th></th>\n",
       "      <th></th>\n",
       "      <th></th>\n",
       "      <th></th>\n",
       "      <th></th>\n",
       "      <th></th>\n",
       "    </tr>\n",
       "  </thead>\n",
       "  <tbody>\n",
       "    <tr>\n",
       "      <th>2019-01-02</th>\n",
       "      <td>39400</td>\n",
       "      <td>39400</td>\n",
       "      <td>38550</td>\n",
       "      <td>38750</td>\n",
       "      <td>7847664</td>\n",
       "      <td>삼성전자</td>\n",
       "      <td>005930</td>\n",
       "      <td>-1150.0</td>\n",
       "      <td>-2.967742</td>\n",
       "    </tr>\n",
       "    <tr>\n",
       "      <th>2019-01-03</th>\n",
       "      <td>38300</td>\n",
       "      <td>38550</td>\n",
       "      <td>37450</td>\n",
       "      <td>37600</td>\n",
       "      <td>12471493</td>\n",
       "      <td>삼성전자</td>\n",
       "      <td>005930</td>\n",
       "      <td>-150.0</td>\n",
       "      <td>-0.398936</td>\n",
       "    </tr>\n",
       "    <tr>\n",
       "      <th>2019-01-04</th>\n",
       "      <td>37450</td>\n",
       "      <td>37600</td>\n",
       "      <td>36850</td>\n",
       "      <td>37450</td>\n",
       "      <td>14108958</td>\n",
       "      <td>삼성전자</td>\n",
       "      <td>005930</td>\n",
       "      <td>0.0</td>\n",
       "      <td>0.000000</td>\n",
       "    </tr>\n",
       "    <tr>\n",
       "      <th>2019-01-05</th>\n",
       "      <td>37450</td>\n",
       "      <td>37600</td>\n",
       "      <td>36850</td>\n",
       "      <td>37450</td>\n",
       "      <td>14108958</td>\n",
       "      <td>삼성전자</td>\n",
       "      <td>005930</td>\n",
       "      <td>0.0</td>\n",
       "      <td>0.000000</td>\n",
       "    </tr>\n",
       "    <tr>\n",
       "      <th>2019-01-06</th>\n",
       "      <td>37450</td>\n",
       "      <td>37600</td>\n",
       "      <td>36850</td>\n",
       "      <td>37450</td>\n",
       "      <td>14108958</td>\n",
       "      <td>삼성전자</td>\n",
       "      <td>005930</td>\n",
       "      <td>1300.0</td>\n",
       "      <td>3.471295</td>\n",
       "    </tr>\n",
       "  </tbody>\n",
       "</table>\n",
       "</div>"
      ],
      "text/plain": [
       "             Open   High    Low  Close    Volume tickername tickercode  \\\n",
       "Date                                                                     \n",
       "2019-01-02  39400  39400  38550  38750   7847664       삼성전자     005930   \n",
       "2019-01-03  38300  38550  37450  37600  12471493       삼성전자     005930   \n",
       "2019-01-04  37450  37600  36850  37450  14108958       삼성전자     005930   \n",
       "2019-01-05  37450  37600  36850  37450  14108958       삼성전자     005930   \n",
       "2019-01-06  37450  37600  36850  37450  14108958       삼성전자     005930   \n",
       "\n",
       "            tomorrow_delta  tomorrow_ratio  \n",
       "Date                                        \n",
       "2019-01-02         -1150.0       -2.967742  \n",
       "2019-01-03          -150.0       -0.398936  \n",
       "2019-01-04             0.0        0.000000  \n",
       "2019-01-05             0.0        0.000000  \n",
       "2019-01-06          1300.0        3.471295  "
      ]
     },
     "execution_count": 54,
     "metadata": {},
     "output_type": "execute_result"
    }
   ],
   "source": [
    "tdf.head()"
   ]
  },
  {
   "cell_type": "markdown",
   "metadata": {},
   "source": [
    "<div class=\"alert alert-block alert-info\">\n",
    "<b> Tip:</b> Pandas의 pct_change 함수를 이용해서 한번에 증감 정보를 계산하는 것도 가능! <br> <br>\n",
    "<pre>\n",
    "tdf['tomorrow_ratio'] = tdf['Close'].pct_change().shift(-1)\n",
    "</pre>\n",
    "</div>"
   ]
  },
  {
   "cell_type": "markdown",
   "metadata": {},
   "source": [
    " - 핵심 알고리즘 구현 : 3일 이상 계속 상승하면 매수! 가격이 꺽이는 날 직전에 매도!!"
   ]
  },
  {
   "cell_type": "code",
   "execution_count": 55,
   "metadata": {
    "execution": {
     "iopub.execute_input": "2022-06-22T11:45:43.261526Z",
     "iopub.status.busy": "2022-06-22T11:45:43.261526Z",
     "iopub.status.idle": "2022-06-22T11:45:43.462526Z",
     "shell.execute_reply": "2022-06-22T11:45:43.461524Z",
     "shell.execute_reply.started": "2022-06-22T11:45:43.261526Z"
    }
   },
   "outputs": [
    {
     "data": {
      "text/plain": [
       "[[Timestamp('2022-01-27 00:00:00', freq='D'),\n",
       "  Timestamp('2022-02-06 00:00:00', freq='D')],\n",
       " [Timestamp('2022-02-07 00:00:00', freq='D'),\n",
       "  Timestamp('2022-02-10 00:00:00', freq='D')],\n",
       " [Timestamp('2022-02-24 00:00:00', freq='D'),\n",
       "  Timestamp('2022-03-01 00:00:00', freq='D')],\n",
       " [Timestamp('2022-04-17 00:00:00', freq='D'),\n",
       "  Timestamp('2022-04-21 00:00:00', freq='D')],\n",
       " [Timestamp('2022-04-28 00:00:00', freq='D'),\n",
       "  Timestamp('2022-05-01 00:00:00', freq='D')],\n",
       " [Timestamp('2022-05-02 00:00:00', freq='D'),\n",
       "  Timestamp('2022-05-05 00:00:00', freq='D')],\n",
       " [Timestamp('2022-05-12 00:00:00', freq='D'),\n",
       "  Timestamp('2022-05-15 00:00:00', freq='D')],\n",
       " [Timestamp('2022-05-19 00:00:00', freq='D'),\n",
       "  Timestamp('2022-05-22 00:00:00', freq='D')],\n",
       " [Timestamp('2022-05-26 00:00:00', freq='D'),\n",
       "  Timestamp('2022-05-30 00:00:00', freq='D')],\n",
       " [Timestamp('2022-06-02 00:00:00', freq='D'),\n",
       "  Timestamp('2022-06-06 00:00:00', freq='D')]]"
      ]
     },
     "execution_count": 55,
     "metadata": {},
     "output_type": "execute_result"
    }
   ],
   "source": [
    "invest_list = []\n",
    "during_invest = False\n",
    "\n",
    "# 주가를 하루 하루 날짜별로 쫒아 가보자\n",
    "for index, row in tdf[:-1].iterrows():\n",
    "    if row['tomorrow_delta'] < 0 and during_invest:               \n",
    "        invest.append(index)  # set the date as \"end day of invest\"\n",
    "        during_invest = False\n",
    "        if (invest[1] - invest[0]).days >= 3:\n",
    "            invest_list.append(invest)\n",
    "    elif row['tomorrow_delta'] < 0 and not during_invest:\n",
    "        continue\n",
    "    elif row['tomorrow_delta'] > 0 and during_invest:\n",
    "        continue\n",
    "    elif row['tomorrow_delta'] > 0 and not during_invest:\n",
    "        invest = [index]\n",
    "        during_invest = True\n",
    "\n",
    "invest_list[-10:]"
   ]
  },
  {
   "cell_type": "markdown",
   "metadata": {},
   "source": [
    "## 비교 (레퍼런스) 알고리즘 end-to-end 모듈화 (함수화)"
   ]
  },
  {
   "cell_type": "code",
   "execution_count": 198,
   "metadata": {
    "execution": {
     "iopub.execute_input": "2022-06-22T13:43:11.893541Z",
     "iopub.status.busy": "2022-06-22T13:43:11.892531Z",
     "iopub.status.idle": "2022-06-22T13:43:11.905533Z",
     "shell.execute_reply": "2022-06-22T13:43:11.904528Z",
     "shell.execute_reply.started": "2022-06-22T13:43:11.893541Z"
    }
   },
   "outputs": [],
   "source": [
    "def realistic_optimal(targetdf, min_investdays=3, start_invest_date = datetime.date(2022,6,1)):\n",
    "    \n",
    "    targetdf= targetdf.resample('D').fillna('ffill')\n",
    "    targetdf = targetdf.loc[start_invest_date:,]\n",
    "    tdf = targetdf[['Close']].copy(deep=True)\n",
    "    tdf['tomorrow_delta'] = tdf['Close'].shift(-1) - tdf['Close'] \n",
    "    tdf['tomorrow_ratio'] = tdf['tomorrow_delta'] / tdf['Close'] * 100\n",
    "    \n",
    "    invest_list = []\n",
    "    during_invest = False\n",
    "    for index, row in tdf[:-1].iterrows():\n",
    "        if row['tomorrow_delta'] < 0 and during_invest:               \n",
    "            invest.append(index)  # set the date as \"end day of invest\"\n",
    "            during_invest = False\n",
    "            if (invest[1] - invest[0]).days >= 3:\n",
    "                invest_list.append(invest)\n",
    "        elif row['tomorrow_delta'] < 0 and not during_invest:\n",
    "            continue\n",
    "        elif row['tomorrow_delta'] > 0 and during_invest:\n",
    "            continue\n",
    "        elif row['tomorrow_delta'] > 0 and not during_invest:\n",
    "            invest = [index]\n",
    "            during_invest = True\n",
    "            \n",
    "    return invest_list"
   ]
  },
  {
   "cell_type": "code",
   "execution_count": 200,
   "metadata": {
    "execution": {
     "iopub.execute_input": "2022-06-22T13:43:23.319842Z",
     "iopub.status.busy": "2022-06-22T13:43:23.319842Z",
     "iopub.status.idle": "2022-06-22T13:43:23.346842Z",
     "shell.execute_reply": "2022-06-22T13:43:23.345841Z",
     "shell.execute_reply.started": "2022-06-22T13:43:23.319842Z"
    }
   },
   "outputs": [
    {
     "data": {
      "text/plain": [
       "[[Timestamp('2022-06-02 00:00:00', freq='D'),\n",
       "  Timestamp('2022-06-06 00:00:00', freq='D')]]"
      ]
     },
     "execution_count": 200,
     "metadata": {},
     "output_type": "execute_result"
    }
   ],
   "source": [
    "realistic_optimal(stockdf)"
   ]
  },
  {
   "cell_type": "markdown",
   "metadata": {},
   "source": [
    "## 비교 알고리즘을 평가해 보자!"
   ]
  },
  {
   "cell_type": "markdown",
   "metadata": {},
   "source": [
    "### prediction algorithm (practical) evaluation"
   ]
  },
  {
   "cell_type": "markdown",
   "metadata": {},
   "source": [
    " - 알고리즘의 결과물로 (매수일자,매도일자) 튜플 리스트를 받아, (Close 종가 대비) 투자 결과를 measure로 사용\n",
    " - 최종 성능 평가는 (최종 보유 금액) / (첫 보유 금액)을 %로 출력"
   ]
  },
  {
   "cell_type": "code",
   "execution_count": 142,
   "metadata": {
    "execution": {
     "iopub.execute_input": "2022-06-22T12:53:19.692971Z",
     "iopub.status.busy": "2022-06-22T12:53:19.691971Z",
     "iopub.status.idle": "2022-06-22T12:53:19.715967Z",
     "shell.execute_reply": "2022-06-22T12:53:19.712969Z",
     "shell.execute_reply.started": "2022-06-22T12:53:19.692971Z"
    }
   },
   "outputs": [],
   "source": [
    "def measure_stock_invest_gains(tdf, invest_list, seed_money=5_000_000, commision_perc=0.2, start_ts=None, end_ts=None):\n",
    "    \n",
    "    invest_money = seed_money\n",
    "    tdf= tdf.resample('D').fillna('ffill')\n",
    "    for [buy_date,sell_date] in invest_list:\n",
    "        buy_price = tdf.loc[buy_date, 'Close']\n",
    "        stock_amount = invest_money // buy_price\n",
    "        remain_money = invest_money - stock_amount * buy_price\n",
    "        sell_price = tdf.loc[sell_date, 'Close']\n",
    "        invest_money = stock_amount * sell_price * (100-commision_perc)/100 + remain_money\n",
    "        #print(f\"{buy_price} - {sell_price}\")\n",
    "        \n",
    "    if start_ts is None or end_ts is None:\n",
    "        start_ts, end_ts = tdf.index[0], tdf.index[-1]\n",
    "    \n",
    "    total_earn_ratio = (invest_money - seed_money) / seed_money * 100.0\n",
    "    daily_earn_ratio = total_earn_ratio / ((end_ts - start_ts).days+1)\n",
    "    return total_earn_ratio, daily_earn_ratio"
   ]
  },
  {
   "cell_type": "code",
   "execution_count": 143,
   "metadata": {
    "execution": {
     "iopub.execute_input": "2022-06-22T12:53:24.992367Z",
     "iopub.status.busy": "2022-06-22T12:53:24.991378Z",
     "iopub.status.idle": "2022-06-22T12:53:25.263362Z",
     "shell.execute_reply": "2022-06-22T12:53:25.260364Z",
     "shell.execute_reply.started": "2022-06-22T12:53:24.992367Z"
    }
   },
   "outputs": [],
   "source": [
    "invest_list = realistic_optimal(stockdf)"
   ]
  },
  {
   "cell_type": "code",
   "execution_count": 144,
   "metadata": {
    "execution": {
     "iopub.execute_input": "2022-06-22T12:53:26.839919Z",
     "iopub.status.busy": "2022-06-22T12:53:26.839919Z",
     "iopub.status.idle": "2022-06-22T12:53:26.850931Z",
     "shell.execute_reply": "2022-06-22T12:53:26.849927Z",
     "shell.execute_reply.started": "2022-06-22T12:53:26.839919Z"
    }
   },
   "outputs": [],
   "source": [
    "total_earn_ratio, daily_earn_ratio = measure_stock_invest_gains(stockdf, invest_list, start_ts=invest_list[0][0], end_ts=invest_list[-1][1])\n",
    "\n",
    "print(f\"The total earn ratio is {total_earn_ratio:.1f}%, daily earn ratio is {daily_earn_ratio:.1f}% !!\")"
   ]
  },
  {
   "cell_type": "markdown",
   "metadata": {},
   "source": [
    "# 알고리즘 Visualization\n",
    "> 전체 챠트에서, 투자 기간 (매수/매도) 기간을 표시"
   ]
  },
  {
   "cell_type": "code",
   "execution_count": 85,
   "metadata": {
    "execution": {
     "iopub.execute_input": "2022-06-22T11:54:58.155549Z",
     "iopub.status.busy": "2022-06-22T11:54:58.155549Z",
     "iopub.status.idle": "2022-06-22T11:54:58.170550Z",
     "shell.execute_reply": "2022-06-22T11:54:58.169548Z",
     "shell.execute_reply.started": "2022-06-22T11:54:58.155549Z"
    }
   },
   "outputs": [],
   "source": [
    "import matplotlib\n",
    "matplotlib.style.use('ggplot')"
   ]
  },
  {
   "cell_type": "code",
   "execution_count": 228,
   "metadata": {
    "execution": {
     "iopub.execute_input": "2022-06-22T13:49:53.615922Z",
     "iopub.status.busy": "2022-06-22T13:49:53.615922Z",
     "iopub.status.idle": "2022-06-22T13:49:53.625925Z",
     "shell.execute_reply": "2022-06-22T13:49:53.624916Z",
     "shell.execute_reply.started": "2022-06-22T13:49:53.615922Z"
    }
   },
   "outputs": [],
   "source": [
    "def visualize_invest(targetdf, invest_list):\n",
    "    \n",
    "    fig, ax = plt.subplots(nrows=1, ncols=1, figsize=(16,6))\n",
    "    \n",
    "    # draw whole graph\n",
    "    targetdf= targetdf.resample('D').fillna('ffill')\n",
    "    tdf = targetdf[['Close']]\n",
    "    tdf['Close'].plot(ax=ax, color='yellow', linewidth=2)\n",
    "    \n",
    "    #plt.scatter(targetdf.index, targetdf['Close'], color='Black')\n",
    "    \n",
    "    \n",
    "    #draw invest graph\n",
    "    for [sdate,edate] in invest_list:\n",
    "        tdf.loc[sdate:edate,'Close'].plot(ax=ax, color='green', linewidth=4, alpha=0.6)\n",
    "\n",
    "        "
   ]
  },
  {
   "cell_type": "code",
   "execution_count": 229,
   "metadata": {
    "execution": {
     "iopub.execute_input": "2022-06-22T13:49:53.918908Z",
     "iopub.status.busy": "2022-06-22T13:49:53.918908Z",
     "iopub.status.idle": "2022-06-22T13:49:54.196908Z",
     "shell.execute_reply": "2022-06-22T13:49:54.195921Z",
     "shell.execute_reply.started": "2022-06-22T13:49:53.918908Z"
    }
   },
   "outputs": [
    {
     "data": {
      "image/png": "[encoded data removed]",
      "text/plain": [
       "<Figure size 1152x432 with 1 Axes>"
      ]
     },
     "metadata": {
      "needs_background": "light"
     },
     "output_type": "display_data"
    }
   ],
   "source": [
    "visualize_invest(stockdf, invest_list)"
   ]
  },
  {
   "cell_type": "raw",
   "metadata": {},
   "source": [
    "<div class=\"alert alert-block alert-info\">\n",
    "<b> Tip:</b> 노란색이 주가 변화를, 녹색으로 나타난 부분이 매입/매도 구간을 나타냄\n",
    "</div>"
   ]
  },
  {
   "cell_type": "markdown",
   "metadata": {},
   "source": [
    "<hr>"
   ]
  },
  {
   "cell_type": "markdown",
   "metadata": {},
   "source": [
    "<div class=\"alert alert-block alert-warning\">\n",
    "<b> ARIMA를 통한 forecast가 주가를 잘 따르는 것으로 보일 수도 있지만, 자세히 보면 다음날 주가의 등/락을 반대로 예측하는 경우가 있음\n",
    "</div>"
   ]
  },
  {
   "cell_type": "markdown",
   "metadata": {},
   "source": [
    "# ARIMA 모델을 적용한 주식 투자 모델을 만들어 보자"
   ]
  },
  {
   "cell_type": "markdown",
   "metadata": {},
   "source": [
    "- referenc 투자 모델은, 시세를 따라가면서 주가가 3일 연속 증가할 것으로 예측되면 매수를, 바로 하락이 예상되는 시점에 매도를 한다!<br>\n",
    "\n",
    "- ARIMA 모델은, reference 투자 모델과 동일한 형태이나 실제 값이 아닌 ARIMA_forecast 값을 바탕으로 결정을 내림\n",
    "\n",
    "- 참고) ARIMA model의 forecast 함수를 활용. steps=N argument를 통해 N 개의 미래값을 예측 <br>"
   ]
  },
  {
   "cell_type": "markdown",
   "metadata": {},
   "source": [
    "## 샘플용 데이터 확보"
   ]
  },
  {
   "cell_type": "code",
   "execution_count": 230,
   "metadata": {
    "execution": {
     "iopub.execute_input": "2022-06-22T13:50:13.507986Z",
     "iopub.status.busy": "2022-06-22T13:50:13.507986Z",
     "iopub.status.idle": "2022-06-22T13:50:13.577984Z",
     "shell.execute_reply": "2022-06-22T13:50:13.576984Z",
     "shell.execute_reply.started": "2022-06-22T13:50:13.507986Z"
    }
   },
   "outputs": [],
   "source": [
    "stockdf = getStockHistory(\"삼성전자\", start='2022-01-01')\n",
    "stockdf= stockdf.resample('D').fillna('ffill')"
   ]
  },
  {
   "cell_type": "code",
   "execution_count": 231,
   "metadata": {
    "execution": {
     "iopub.execute_input": "2022-06-22T13:50:14.063649Z",
     "iopub.status.busy": "2022-06-22T13:50:14.063649Z",
     "iopub.status.idle": "2022-06-22T13:50:14.090652Z",
     "shell.execute_reply": "2022-06-22T13:50:14.089657Z",
     "shell.execute_reply.started": "2022-06-22T13:50:14.063649Z"
    }
   },
   "outputs": [
    {
     "data": {
      "text/html": [
       "<div>\n",
       "<style scoped>\n",
       "    .dataframe tbody tr th:only-of-type {\n",
       "        vertical-align: middle;\n",
       "    }\n",
       "\n",
       "    .dataframe tbody tr th {\n",
       "        vertical-align: top;\n",
       "    }\n",
       "\n",
       "    .dataframe thead th {\n",
       "        text-align: right;\n",
       "    }\n",
       "</style>\n",
       "<table border=\"1\" class=\"dataframe\">\n",
       "  <thead>\n",
       "    <tr style=\"text-align: right;\">\n",
       "      <th></th>\n",
       "      <th>Open</th>\n",
       "      <th>High</th>\n",
       "      <th>Low</th>\n",
       "      <th>Close</th>\n",
       "      <th>Volume</th>\n",
       "      <th>tickername</th>\n",
       "      <th>tickercode</th>\n",
       "    </tr>\n",
       "    <tr>\n",
       "      <th>Date</th>\n",
       "      <th></th>\n",
       "      <th></th>\n",
       "      <th></th>\n",
       "      <th></th>\n",
       "      <th></th>\n",
       "      <th></th>\n",
       "      <th></th>\n",
       "    </tr>\n",
       "  </thead>\n",
       "  <tbody>\n",
       "    <tr>\n",
       "      <th>2022-01-03</th>\n",
       "      <td>79400</td>\n",
       "      <td>79800</td>\n",
       "      <td>78200</td>\n",
       "      <td>78600</td>\n",
       "      <td>13502112</td>\n",
       "      <td>삼성전자</td>\n",
       "      <td>005930</td>\n",
       "    </tr>\n",
       "    <tr>\n",
       "      <th>2022-01-04</th>\n",
       "      <td>78800</td>\n",
       "      <td>79200</td>\n",
       "      <td>78300</td>\n",
       "      <td>78700</td>\n",
       "      <td>12427416</td>\n",
       "      <td>삼성전자</td>\n",
       "      <td>005930</td>\n",
       "    </tr>\n",
       "    <tr>\n",
       "      <th>2022-01-05</th>\n",
       "      <td>78800</td>\n",
       "      <td>79000</td>\n",
       "      <td>76400</td>\n",
       "      <td>77400</td>\n",
       "      <td>25470640</td>\n",
       "      <td>삼성전자</td>\n",
       "      <td>005930</td>\n",
       "    </tr>\n",
       "    <tr>\n",
       "      <th>2022-01-06</th>\n",
       "      <td>76700</td>\n",
       "      <td>77600</td>\n",
       "      <td>76600</td>\n",
       "      <td>76900</td>\n",
       "      <td>12931954</td>\n",
       "      <td>삼성전자</td>\n",
       "      <td>005930</td>\n",
       "    </tr>\n",
       "    <tr>\n",
       "      <th>2022-01-07</th>\n",
       "      <td>78100</td>\n",
       "      <td>78400</td>\n",
       "      <td>77400</td>\n",
       "      <td>78300</td>\n",
       "      <td>15163757</td>\n",
       "      <td>삼성전자</td>\n",
       "      <td>005930</td>\n",
       "    </tr>\n",
       "    <tr>\n",
       "      <th>...</th>\n",
       "      <td>...</td>\n",
       "      <td>...</td>\n",
       "      <td>...</td>\n",
       "      <td>...</td>\n",
       "      <td>...</td>\n",
       "      <td>...</td>\n",
       "      <td>...</td>\n",
       "    </tr>\n",
       "    <tr>\n",
       "      <th>2022-06-18</th>\n",
       "      <td>59400</td>\n",
       "      <td>59900</td>\n",
       "      <td>59400</td>\n",
       "      <td>59800</td>\n",
       "      <td>29053450</td>\n",
       "      <td>삼성전자</td>\n",
       "      <td>005930</td>\n",
       "    </tr>\n",
       "    <tr>\n",
       "      <th>2022-06-19</th>\n",
       "      <td>59400</td>\n",
       "      <td>59900</td>\n",
       "      <td>59400</td>\n",
       "      <td>59800</td>\n",
       "      <td>29053450</td>\n",
       "      <td>삼성전자</td>\n",
       "      <td>005930</td>\n",
       "    </tr>\n",
       "    <tr>\n",
       "      <th>2022-06-20</th>\n",
       "      <td>59800</td>\n",
       "      <td>59900</td>\n",
       "      <td>58100</td>\n",
       "      <td>58700</td>\n",
       "      <td>34111306</td>\n",
       "      <td>삼성전자</td>\n",
       "      <td>005930</td>\n",
       "    </tr>\n",
       "    <tr>\n",
       "      <th>2022-06-21</th>\n",
       "      <td>58700</td>\n",
       "      <td>59200</td>\n",
       "      <td>58200</td>\n",
       "      <td>58500</td>\n",
       "      <td>25148109</td>\n",
       "      <td>삼성전자</td>\n",
       "      <td>005930</td>\n",
       "    </tr>\n",
       "    <tr>\n",
       "      <th>2022-06-22</th>\n",
       "      <td>59000</td>\n",
       "      <td>59100</td>\n",
       "      <td>57600</td>\n",
       "      <td>57600</td>\n",
       "      <td>22955977</td>\n",
       "      <td>삼성전자</td>\n",
       "      <td>005930</td>\n",
       "    </tr>\n",
       "  </tbody>\n",
       "</table>\n",
       "<p>171 rows × 7 columns</p>\n",
       "</div>"
      ],
      "text/plain": [
       "             Open   High    Low  Close    Volume tickername tickercode\n",
       "Date                                                                  \n",
       "2022-01-03  79400  79800  78200  78600  13502112       삼성전자     005930\n",
       "2022-01-04  78800  79200  78300  78700  12427416       삼성전자     005930\n",
       "2022-01-05  78800  79000  76400  77400  25470640       삼성전자     005930\n",
       "2022-01-06  76700  77600  76600  76900  12931954       삼성전자     005930\n",
       "2022-01-07  78100  78400  77400  78300  15163757       삼성전자     005930\n",
       "...           ...    ...    ...    ...       ...        ...        ...\n",
       "2022-06-18  59400  59900  59400  59800  29053450       삼성전자     005930\n",
       "2022-06-19  59400  59900  59400  59800  29053450       삼성전자     005930\n",
       "2022-06-20  59800  59900  58100  58700  34111306       삼성전자     005930\n",
       "2022-06-21  58700  59200  58200  58500  25148109       삼성전자     005930\n",
       "2022-06-22  59000  59100  57600  57600  22955977       삼성전자     005930\n",
       "\n",
       "[171 rows x 7 columns]"
      ]
     },
     "execution_count": 231,
     "metadata": {},
     "output_type": "execute_result"
    }
   ],
   "source": [
    "stockdf"
   ]
  },
  {
   "cell_type": "markdown",
   "metadata": {},
   "source": [
    "## ARIMA Rolling Window Fit 알고리즘을 활용한 투자 함수"
   ]
  },
  {
   "cell_type": "code",
   "execution_count": 232,
   "metadata": {
    "execution": {
     "iopub.execute_input": "2022-06-22T13:50:15.237986Z",
     "iopub.status.busy": "2022-06-22T13:50:15.236988Z",
     "iopub.status.idle": "2022-06-22T13:50:15.250975Z",
     "shell.execute_reply": "2022-06-22T13:50:15.249981Z",
     "shell.execute_reply.started": "2022-06-22T13:50:15.237986Z"
    }
   },
   "outputs": [],
   "source": [
    "def arima_rolling_window_invest(targetdf, min_investdays = 3, start_invest_date = datetime.date(2022,6,1)):\n",
    "    \n",
    "    tdf = targetdf[['Close']].copy(deep=True)\n",
    "    tdf = tdf[['Close']]   \n",
    "    invest_list = []\n",
    "    during_invest = False\n",
    "    \n",
    "    train = tdf.loc[:start_invest_date, 'Close']\n",
    "    test = tdf.loc[start_invest_date:, 'Close']\n",
    "    history = [ x for x in train]\n",
    "\n",
    "    for t in tqdm(range(len(test)), position=0, leave=True):\n",
    "        model = ARIMA(history, order=(2,1,2))\n",
    "        model_fit = model.fit();\n",
    "        forecast_vals, se, conf_interval = model_fit.forecast(steps=min_investdays)\n",
    "        \n",
    "        obs = test[t]\n",
    "        base_forecast = np.insert(forecast_vals, 0, obs)\n",
    "        history.append(obs)\n",
    "\n",
    "        if during_invest and ((base_forecast[1] < base_forecast[0]) or (base_forecast[0] < buy_price)):\n",
    "            invest.append(test.index[t])  # set today as end date of invest\n",
    "            during_invest = False\n",
    "            invest_list.append(invest)\n",
    "            #print(\"--\", base_forecast, test.index[t])\n",
    "        elif base_forecast[1] < base_forecast[0] and not during_invest:\n",
    "            continue\n",
    "        elif base_forecast[1] - base_forecast[0] > 0 and during_invest:\n",
    "            continue\n",
    "        elif np.all(np.diff(base_forecast) > 0) and not during_invest:\n",
    "            invest = [test.index[t]]\n",
    "            during_invest = True\n",
    "            buy_price = obs\n",
    "            buy_index = t\n",
    "            #print(\"++\", base_forecast, test.index[t])\n",
    "            \n",
    "    return invest_list"
   ]
  },
  {
   "cell_type": "markdown",
   "metadata": {},
   "source": [
    "## 투자 예측 결과"
   ]
  },
  {
   "cell_type": "code",
   "execution_count": 233,
   "metadata": {
    "execution": {
     "iopub.execute_input": "2022-06-22T13:50:16.909369Z",
     "iopub.status.busy": "2022-06-22T13:50:16.908352Z",
     "iopub.status.idle": "2022-06-22T13:50:27.440362Z",
     "shell.execute_reply": "2022-06-22T13:50:27.438351Z",
     "shell.execute_reply.started": "2022-06-22T13:50:16.909369Z"
    }
   },
   "outputs": [
    {
     "data": {
      "application/vnd.jupyter.widget-view+json": {
       "model_id": "2d6025b3d51d478faddf82d5a8c2ceee",
       "version_major": 2,
       "version_minor": 0
      },
      "text/plain": [
       "HBox(children=(FloatProgress(value=0.0, max=22.0), HTML(value='')))"
      ]
     },
     "metadata": {},
     "output_type": "display_data"
    },
    {
     "data": {
      "application/javascript": [
       "\n",
       "        if (window._pyforest_update_imports_cell) { window._pyforest_update_imports_cell('from statsmodels.tsa.arima_model import ARIMA'); }\n",
       "    "
      ],
      "text/plain": [
       "<IPython.core.display.Javascript object>"
      ]
     },
     "metadata": {},
     "output_type": "display_data"
    },
    {
     "data": {
      "application/javascript": [
       "\n",
       "        if (window._pyforest_update_imports_cell) { window._pyforest_update_imports_cell('from statsmodels.tsa.arima_model import ARIMA'); }\n",
       "    "
      ],
      "text/plain": [
       "<IPython.core.display.Javascript object>"
      ]
     },
     "metadata": {},
     "output_type": "display_data"
    },
    {
     "data": {
      "application/javascript": [
       "\n",
       "        if (window._pyforest_update_imports_cell) { window._pyforest_update_imports_cell('from statsmodels.tsa.arima_model import ARIMA'); }\n",
       "    "
      ],
      "text/plain": [
       "<IPython.core.display.Javascript object>"
      ]
     },
     "metadata": {},
     "output_type": "display_data"
    },
    {
     "data": {
      "application/javascript": [
       "\n",
       "        if (window._pyforest_update_imports_cell) { window._pyforest_update_imports_cell('from statsmodels.tsa.arima_model import ARIMA'); }\n",
       "    "
      ],
      "text/plain": [
       "<IPython.core.display.Javascript object>"
      ]
     },
     "metadata": {},
     "output_type": "display_data"
    },
    {
     "data": {
      "application/javascript": [
       "\n",
       "        if (window._pyforest_update_imports_cell) { window._pyforest_update_imports_cell('from statsmodels.tsa.arima_model import ARIMA'); }\n",
       "    "
      ],
      "text/plain": [
       "<IPython.core.display.Javascript object>"
      ]
     },
     "metadata": {},
     "output_type": "display_data"
    },
    {
     "data": {
      "application/javascript": [
       "\n",
       "        if (window._pyforest_update_imports_cell) { window._pyforest_update_imports_cell('from statsmodels.tsa.arima_model import ARIMA'); }\n",
       "    "
      ],
      "text/plain": [
       "<IPython.core.display.Javascript object>"
      ]
     },
     "metadata": {},
     "output_type": "display_data"
    },
    {
     "data": {
      "application/javascript": [
       "\n",
       "        if (window._pyforest_update_imports_cell) { window._pyforest_update_imports_cell('from statsmodels.tsa.arima_model import ARIMA'); }\n",
       "    "
      ],
      "text/plain": [
       "<IPython.core.display.Javascript object>"
      ]
     },
     "metadata": {},
     "output_type": "display_data"
    },
    {
     "data": {
      "application/javascript": [
       "\n",
       "        if (window._pyforest_update_imports_cell) { window._pyforest_update_imports_cell('from statsmodels.tsa.arima_model import ARIMA'); }\n",
       "    "
      ],
      "text/plain": [
       "<IPython.core.display.Javascript object>"
      ]
     },
     "metadata": {},
     "output_type": "display_data"
    },
    {
     "data": {
      "application/javascript": [
       "\n",
       "        if (window._pyforest_update_imports_cell) { window._pyforest_update_imports_cell('from statsmodels.tsa.arima_model import ARIMA'); }\n",
       "    "
      ],
      "text/plain": [
       "<IPython.core.display.Javascript object>"
      ]
     },
     "metadata": {},
     "output_type": "display_data"
    },
    {
     "data": {
      "application/javascript": [
       "\n",
       "        if (window._pyforest_update_imports_cell) { window._pyforest_update_imports_cell('from statsmodels.tsa.arima_model import ARIMA'); }\n",
       "    "
      ],
      "text/plain": [
       "<IPython.core.display.Javascript object>"
      ]
     },
     "metadata": {},
     "output_type": "display_data"
    },
    {
     "data": {
      "application/javascript": [
       "\n",
       "        if (window._pyforest_update_imports_cell) { window._pyforest_update_imports_cell('from statsmodels.tsa.arima_model import ARIMA'); }\n",
       "    "
      ],
      "text/plain": [
       "<IPython.core.display.Javascript object>"
      ]
     },
     "metadata": {},
     "output_type": "display_data"
    },
    {
     "data": {
      "application/javascript": [
       "\n",
       "        if (window._pyforest_update_imports_cell) { window._pyforest_update_imports_cell('from statsmodels.tsa.arima_model import ARIMA'); }\n",
       "    "
      ],
      "text/plain": [
       "<IPython.core.display.Javascript object>"
      ]
     },
     "metadata": {},
     "output_type": "display_data"
    },
    {
     "data": {
      "application/javascript": [
       "\n",
       "        if (window._pyforest_update_imports_cell) { window._pyforest_update_imports_cell('from statsmodels.tsa.arima_model import ARIMA'); }\n",
       "    "
      ],
      "text/plain": [
       "<IPython.core.display.Javascript object>"
      ]
     },
     "metadata": {},
     "output_type": "display_data"
    },
    {
     "data": {
      "application/javascript": [
       "\n",
       "        if (window._pyforest_update_imports_cell) { window._pyforest_update_imports_cell('from statsmodels.tsa.arima_model import ARIMA'); }\n",
       "    "
      ],
      "text/plain": [
       "<IPython.core.display.Javascript object>"
      ]
     },
     "metadata": {},
     "output_type": "display_data"
    },
    {
     "data": {
      "application/javascript": [
       "\n",
       "        if (window._pyforest_update_imports_cell) { window._pyforest_update_imports_cell('from statsmodels.tsa.arima_model import ARIMA'); }\n",
       "    "
      ],
      "text/plain": [
       "<IPython.core.display.Javascript object>"
      ]
     },
     "metadata": {},
     "output_type": "display_data"
    },
    {
     "data": {
      "application/javascript": [
       "\n",
       "        if (window._pyforest_update_imports_cell) { window._pyforest_update_imports_cell('from statsmodels.tsa.arima_model import ARIMA'); }\n",
       "    "
      ],
      "text/plain": [
       "<IPython.core.display.Javascript object>"
      ]
     },
     "metadata": {},
     "output_type": "display_data"
    },
    {
     "data": {
      "application/javascript": [
       "\n",
       "        if (window._pyforest_update_imports_cell) { window._pyforest_update_imports_cell('from statsmodels.tsa.arima_model import ARIMA'); }\n",
       "    "
      ],
      "text/plain": [
       "<IPython.core.display.Javascript object>"
      ]
     },
     "metadata": {},
     "output_type": "display_data"
    },
    {
     "data": {
      "application/javascript": [
       "\n",
       "        if (window._pyforest_update_imports_cell) { window._pyforest_update_imports_cell('from statsmodels.tsa.arima_model import ARIMA'); }\n",
       "    "
      ],
      "text/plain": [
       "<IPython.core.display.Javascript object>"
      ]
     },
     "metadata": {},
     "output_type": "display_data"
    },
    {
     "data": {
      "application/javascript": [
       "\n",
       "        if (window._pyforest_update_imports_cell) { window._pyforest_update_imports_cell('from statsmodels.tsa.arima_model import ARIMA'); }\n",
       "    "
      ],
      "text/plain": [
       "<IPython.core.display.Javascript object>"
      ]
     },
     "metadata": {},
     "output_type": "display_data"
    },
    {
     "data": {
      "application/javascript": [
       "\n",
       "        if (window._pyforest_update_imports_cell) { window._pyforest_update_imports_cell('from statsmodels.tsa.arima_model import ARIMA'); }\n",
       "    "
      ],
      "text/plain": [
       "<IPython.core.display.Javascript object>"
      ]
     },
     "metadata": {},
     "output_type": "display_data"
    },
    {
     "data": {
      "application/javascript": [
       "\n",
       "        if (window._pyforest_update_imports_cell) { window._pyforest_update_imports_cell('from statsmodels.tsa.arima_model import ARIMA'); }\n",
       "    "
      ],
      "text/plain": [
       "<IPython.core.display.Javascript object>"
      ]
     },
     "metadata": {},
     "output_type": "display_data"
    },
    {
     "data": {
      "application/javascript": [
       "\n",
       "        if (window._pyforest_update_imports_cell) { window._pyforest_update_imports_cell('from statsmodels.tsa.arima_model import ARIMA'); }\n",
       "    "
      ],
      "text/plain": [
       "<IPython.core.display.Javascript object>"
      ]
     },
     "metadata": {},
     "output_type": "display_data"
    },
    {
     "name": "stdout",
     "output_type": "stream",
     "text": [
      "\n"
     ]
    }
   ],
   "source": [
    "invest_list = arima_rolling_window_invest(stockdf, min_investdays = 3, start_invest_date='2022-06-01')"
   ]
  },
  {
   "cell_type": "code",
   "execution_count": 234,
   "metadata": {
    "execution": {
     "iopub.execute_input": "2022-06-22T13:50:27.441352Z",
     "iopub.status.busy": "2022-06-22T13:50:27.441352Z",
     "iopub.status.idle": "2022-06-22T13:50:27.454354Z",
     "shell.execute_reply": "2022-06-22T13:50:27.453363Z",
     "shell.execute_reply.started": "2022-06-22T13:50:27.441352Z"
    }
   },
   "outputs": [
    {
     "data": {
      "text/plain": [
       "[]"
      ]
     },
     "execution_count": 234,
     "metadata": {},
     "output_type": "execute_result"
    }
   ],
   "source": [
    "invest_list"
   ]
  },
  {
   "cell_type": "code",
   "execution_count": 235,
   "metadata": {
    "execution": {
     "iopub.execute_input": "2022-06-22T13:50:27.456350Z",
     "iopub.status.busy": "2022-06-22T13:50:27.456350Z",
     "iopub.status.idle": "2022-06-22T13:50:27.486362Z",
     "shell.execute_reply": "2022-06-22T13:50:27.483353Z",
     "shell.execute_reply.started": "2022-06-22T13:50:27.456350Z"
    }
   },
   "outputs": [
    {
     "data": {
      "text/html": [
       "<div>\n",
       "<style scoped>\n",
       "    .dataframe tbody tr th:only-of-type {\n",
       "        vertical-align: middle;\n",
       "    }\n",
       "\n",
       "    .dataframe tbody tr th {\n",
       "        vertical-align: top;\n",
       "    }\n",
       "\n",
       "    .dataframe thead th {\n",
       "        text-align: right;\n",
       "    }\n",
       "</style>\n",
       "<table border=\"1\" class=\"dataframe\">\n",
       "  <thead>\n",
       "    <tr style=\"text-align: right;\">\n",
       "      <th></th>\n",
       "      <th>Open</th>\n",
       "      <th>High</th>\n",
       "      <th>Low</th>\n",
       "      <th>Close</th>\n",
       "      <th>Volume</th>\n",
       "      <th>tickername</th>\n",
       "      <th>tickercode</th>\n",
       "    </tr>\n",
       "    <tr>\n",
       "      <th>Date</th>\n",
       "      <th></th>\n",
       "      <th></th>\n",
       "      <th></th>\n",
       "      <th></th>\n",
       "      <th></th>\n",
       "      <th></th>\n",
       "      <th></th>\n",
       "    </tr>\n",
       "  </thead>\n",
       "  <tbody>\n",
       "    <tr>\n",
       "      <th>2022-06-18</th>\n",
       "      <td>59400</td>\n",
       "      <td>59900</td>\n",
       "      <td>59400</td>\n",
       "      <td>59800</td>\n",
       "      <td>29053450</td>\n",
       "      <td>삼성전자</td>\n",
       "      <td>005930</td>\n",
       "    </tr>\n",
       "    <tr>\n",
       "      <th>2022-06-19</th>\n",
       "      <td>59400</td>\n",
       "      <td>59900</td>\n",
       "      <td>59400</td>\n",
       "      <td>59800</td>\n",
       "      <td>29053450</td>\n",
       "      <td>삼성전자</td>\n",
       "      <td>005930</td>\n",
       "    </tr>\n",
       "    <tr>\n",
       "      <th>2022-06-20</th>\n",
       "      <td>59800</td>\n",
       "      <td>59900</td>\n",
       "      <td>58100</td>\n",
       "      <td>58700</td>\n",
       "      <td>34111306</td>\n",
       "      <td>삼성전자</td>\n",
       "      <td>005930</td>\n",
       "    </tr>\n",
       "    <tr>\n",
       "      <th>2022-06-21</th>\n",
       "      <td>58700</td>\n",
       "      <td>59200</td>\n",
       "      <td>58200</td>\n",
       "      <td>58500</td>\n",
       "      <td>25148109</td>\n",
       "      <td>삼성전자</td>\n",
       "      <td>005930</td>\n",
       "    </tr>\n",
       "    <tr>\n",
       "      <th>2022-06-22</th>\n",
       "      <td>59000</td>\n",
       "      <td>59100</td>\n",
       "      <td>57600</td>\n",
       "      <td>57600</td>\n",
       "      <td>22955977</td>\n",
       "      <td>삼성전자</td>\n",
       "      <td>005930</td>\n",
       "    </tr>\n",
       "  </tbody>\n",
       "</table>\n",
       "</div>"
      ],
      "text/plain": [
       "             Open   High    Low  Close    Volume tickername tickercode\n",
       "Date                                                                  \n",
       "2022-06-18  59400  59900  59400  59800  29053450       삼성전자     005930\n",
       "2022-06-19  59400  59900  59400  59800  29053450       삼성전자     005930\n",
       "2022-06-20  59800  59900  58100  58700  34111306       삼성전자     005930\n",
       "2022-06-21  58700  59200  58200  58500  25148109       삼성전자     005930\n",
       "2022-06-22  59000  59100  57600  57600  22955977       삼성전자     005930"
      ]
     },
     "execution_count": 235,
     "metadata": {},
     "output_type": "execute_result"
    }
   ],
   "source": [
    "stockdf.tail()"
   ]
  },
  {
   "cell_type": "raw",
   "metadata": {
    "execution": {
     "iopub.execute_input": "2022-06-22T12:47:03.350657Z",
     "iopub.status.busy": "2022-06-22T12:47:03.350657Z",
     "iopub.status.idle": "2022-06-22T12:47:03.364668Z",
     "shell.execute_reply": "2022-06-22T12:47:03.363663Z",
     "shell.execute_reply.started": "2022-06-22T12:47:03.350657Z"
    }
   },
   "source": [
    "stockdf.iloc[-20:,-4]"
   ]
  },
  {
   "cell_type": "code",
   "execution_count": 236,
   "metadata": {
    "execution": {
     "iopub.execute_input": "2022-06-22T13:50:27.488356Z",
     "iopub.status.busy": "2022-06-22T13:50:27.487355Z",
     "iopub.status.idle": "2022-06-22T13:50:27.726350Z",
     "shell.execute_reply": "2022-06-22T13:50:27.725364Z",
     "shell.execute_reply.started": "2022-06-22T13:50:27.488356Z"
    }
   },
   "outputs": [
    {
     "data": {
      "image/png": "[encoded data removed]",
      "text/plain": [
       "<Figure size 1152x432 with 1 Axes>"
      ]
     },
     "metadata": {
      "needs_background": "light"
     },
     "output_type": "display_data"
    }
   ],
   "source": [
    "visualize_invest(stockdf[datetime.datetime(2022,1,1):], invest_list)"
   ]
  },
  {
   "cell_type": "markdown",
   "metadata": {},
   "source": [
    "<div class=\"alert alert-block alert-info\">\n",
    "<b> Tip:</b> 노란색이 주가 변화를, 빨간색으로 나타난 부분이 매입/매도 구간을 나타냄\n",
    "</div>"
   ]
  },
  {
   "cell_type": "markdown",
   "metadata": {},
   "source": [
    "## Reference 투자 알고리즘과 비교"
   ]
  },
  {
   "cell_type": "code",
   "execution_count": 237,
   "metadata": {
    "execution": {
     "iopub.execute_input": "2022-06-22T13:50:27.728368Z",
     "iopub.status.busy": "2022-06-22T13:50:27.728368Z",
     "iopub.status.idle": "2022-06-22T13:50:27.741355Z",
     "shell.execute_reply": "2022-06-22T13:50:27.740353Z",
     "shell.execute_reply.started": "2022-06-22T13:50:27.728368Z"
    }
   },
   "outputs": [
    {
     "data": {
      "text/plain": [
       "(0.0, 0.0)"
      ]
     },
     "execution_count": 237,
     "metadata": {},
     "output_type": "execute_result"
    }
   ],
   "source": [
    "measure_stock_invest_gains(stockdf, invest_list)"
   ]
  },
  {
   "cell_type": "code",
   "execution_count": 238,
   "metadata": {
    "execution": {
     "iopub.execute_input": "2022-06-22T13:50:27.743368Z",
     "iopub.status.busy": "2022-06-22T13:50:27.743368Z",
     "iopub.status.idle": "2022-06-22T13:50:27.771352Z",
     "shell.execute_reply": "2022-06-22T13:50:27.770363Z",
     "shell.execute_reply.started": "2022-06-22T13:50:27.743368Z"
    }
   },
   "outputs": [
    {
     "data": {
      "text/plain": [
       "(-0.04972800000000745, -0.0002908070175439032)"
      ]
     },
     "execution_count": 238,
     "metadata": {},
     "output_type": "execute_result"
    }
   ],
   "source": [
    "measure_stock_invest_gains(stockdf, realistic_optimal(stockdf.loc[datetime.datetime(2022,6,1):]) )"
   ]
  },
  {
   "cell_type": "code",
   "execution_count": 239,
   "metadata": {
    "execution": {
     "iopub.execute_input": "2022-06-22T13:50:27.773354Z",
     "iopub.status.busy": "2022-06-22T13:50:27.773354Z",
     "iopub.status.idle": "2022-06-22T13:50:27.801351Z",
     "shell.execute_reply": "2022-06-22T13:50:27.800353Z",
     "shell.execute_reply.started": "2022-06-22T13:50:27.773354Z"
    }
   },
   "outputs": [
    {
     "data": {
      "text/plain": [
       "[[Timestamp('2022-06-02 00:00:00', freq='D'),\n",
       "  Timestamp('2022-06-06 00:00:00', freq='D')]]"
      ]
     },
     "execution_count": 239,
     "metadata": {},
     "output_type": "execute_result"
    }
   ],
   "source": [
    "realistic_optimal(stockdf.loc[datetime.datetime(2022,6,1):])"
   ]
  },
  {
   "cell_type": "markdown",
   "metadata": {},
   "source": [
    "# Wrapup"
   ]
  },
  {
   "cell_type": "markdown",
   "metadata": {},
   "source": [
    "## 앞서 작성한 챠트 그래프에 투자 정보를 입혀 보자!\n",
    "> 앞에서 사용한 추가적인 코드 필요 없음"
   ]
  },
  {
   "cell_type": "markdown",
   "metadata": {},
   "source": [
    "- ipywidget을 활용해서 interactive하게 종목과 날짜를 바꾸어 볼 수 있는 그래프 그리기"
   ]
  },
  {
   "cell_type": "markdown",
   "metadata": {},
   "source": [
    "> widgets은 ipython(jupyter)에 interactive한 요소를 추가 해주는 기능"
   ]
  },
  {
   "cell_type": "code",
   "execution_count": 240,
   "metadata": {
    "execution": {
     "iopub.execute_input": "2022-06-22T13:50:27.804356Z",
     "iopub.status.busy": "2022-06-22T13:50:27.804356Z",
     "iopub.status.idle": "2022-06-22T13:50:27.816353Z",
     "shell.execute_reply": "2022-06-22T13:50:27.815354Z",
     "shell.execute_reply.started": "2022-06-22T13:50:27.804356Z"
    }
   },
   "outputs": [],
   "source": [
    "import ipywidgets as widgets"
   ]
  },
  {
   "cell_type": "markdown",
   "metadata": {},
   "source": [
    "> <b> 실제 그래프를 표시할 함수 만들기 </b> <br>\n",
    "> widget에서 리턴되는 내용들이 argument가 되어, 수행하는 함수 만들기. widget값이 바뀔 경우 함수가 자동 재수행됨"
   ]
  },
  {
   "cell_type": "code",
   "execution_count": 246,
   "metadata": {
    "execution": {
     "iopub.execute_input": "2022-06-22T13:53:22.692306Z",
     "iopub.status.busy": "2022-06-22T13:53:22.691304Z",
     "iopub.status.idle": "2022-06-22T13:53:22.706302Z",
     "shell.execute_reply": "2022-06-22T13:53:22.705303Z",
     "shell.execute_reply.started": "2022-06-22T13:53:22.692306Z"
    }
   },
   "outputs": [],
   "source": [
    "def draw_chart(ticker, date_range, values, invest_alg):\n",
    "    fig,ax = plt.subplots(nrows=1, ncols=1, figsize=(16,6))\n",
    "    stockdf = getStockHistory(ticker, date_range[0].strftime(\"%Y-%m-%d\"), date_range[1].strftime(\"%Y-%m-%d\"))\n",
    "    stockdf = stockdf.resample('D').fillna('ffill')\n",
    "    stockdf[list(values)].plot(ax=ax)\n",
    "    \n",
    "    # draw invest \n",
    "    if invest_alg is not None:\n",
    "        invest_list = invest_alg(stockdf)\n",
    "        for [sdate,edate] in invest_list:\n",
    "            stockdf.loc[sdate:edate,'Close'].plot(ax=ax, color='yellow', linewidth=4, alpha=0.9 )\n",
    "            \n",
    "    total_earn_ratio, daily_earn_ratio = measure_stock_invest_gains(stockdf, invest_list, start_ts=datetime.datetime(2022,6,1), end_ts=stockdf.index[-1])\n",
    "    print(f\"The total earn ratio is {total_earn_ratio:.1f}%, daily earn ratio is {daily_earn_ratio:.1f}% !!\")\n",
    "\n",
    "    xtick = pd.date_range(start=stockdf.index.min( ), end=stockdf.index.max( ), freq='W' )\n",
    "    ax.set_xticks( xtick, minor=True )\n",
    "    ax.grid('on', which='minor', axis='x' )\n",
    "    ax.grid('on', which='major', axis='x' )"
   ]
  },
  {
   "cell_type": "markdown",
   "metadata": {},
   "source": [
    "> <b> 표시 기간/날짜를 선택하는 widget 만들기 </b> <br>\n",
    "> 먼저, 전체 기간의 시작과 끝을 정하고, 해당 기간을 선택할 option으로 만들어 제공하면 선택 결과가 tuple로 return됨"
   ]
  },
  {
   "cell_type": "code",
   "execution_count": 247,
   "metadata": {
    "execution": {
     "iopub.execute_input": "2022-06-22T13:53:23.071305Z",
     "iopub.status.busy": "2022-06-22T13:53:23.071305Z",
     "iopub.status.idle": "2022-06-22T13:53:23.097301Z",
     "shell.execute_reply": "2022-06-22T13:53:23.095315Z",
     "shell.execute_reply.started": "2022-06-22T13:53:23.071305Z"
    }
   },
   "outputs": [],
   "source": [
    "start_date = datetime.datetime(2022, 1, 1)\n",
    "end_date = datetime.datetime.now().date()\n",
    "dates = pd.date_range(start_date, end_date, freq='D')\n",
    "\n",
    "options = [(date.strftime(' %Y-%m-%d '), date) for date in dates]\n",
    "index = (0, len(options)-1)\n",
    "\n",
    "selection_range_slider = widgets.SelectionRangeSlider(\n",
    "    options=options,\n",
    "    index=index,\n",
    "    description='Dates',\n",
    "    orientation='horizontal',\n",
    "    layout={'width': '500px'}\n",
    ")"
   ]
  },
  {
   "cell_type": "markdown",
   "metadata": {},
   "source": [
    "> <b> 표시할 내용 선택 widget 만들기 </b> <br>\n",
    "> 여러 값들 중에서 선택한 내용이 리스트로 전달됨. 복수 선택 가능"
   ]
  },
  {
   "cell_type": "code",
   "execution_count": 248,
   "metadata": {
    "execution": {
     "iopub.execute_input": "2022-06-22T13:53:23.415815Z",
     "iopub.status.busy": "2022-06-22T13:53:23.415815Z",
     "iopub.status.idle": "2022-06-22T13:53:23.427804Z",
     "shell.execute_reply": "2022-06-22T13:53:23.426812Z",
     "shell.execute_reply.started": "2022-06-22T13:53:23.415815Z"
    }
   },
   "outputs": [],
   "source": [
    "selection_values = widgets.SelectMultiple(\n",
    "    options=['Open','Close','High','Low'],\n",
    "    value=['Close'],\n",
    "    description='Values',\n",
    "    disabled=False\n",
    ")"
   ]
  },
  {
   "cell_type": "markdown",
   "metadata": {},
   "source": [
    "> <b> widgets.ineract를 통해 interactive한 함수 기능 제공 </b> <br>\n",
    "> 준비해둔 widget과 함수를 연결해주는 내용"
   ]
  },
  {
   "cell_type": "code",
   "execution_count": 249,
   "metadata": {
    "execution": {
     "iopub.execute_input": "2022-06-22T13:53:23.748803Z",
     "iopub.status.busy": "2022-06-22T13:53:23.748803Z",
     "iopub.status.idle": "2022-06-22T13:53:34.405804Z",
     "shell.execute_reply": "2022-06-22T13:53:34.404807Z",
     "shell.execute_reply.started": "2022-06-22T13:53:23.748803Z"
    }
   },
   "outputs": [
    {
     "data": {
      "application/vnd.jupyter.widget-view+json": {
       "model_id": "e9300adabb8044cbad75074d73c8c376",
       "version_major": 2,
       "version_minor": 0
      },
      "text/plain": [
       "interactive(children=(Dropdown(description='ticker', options=('삼성전자', 'LG에너지솔루션'), value='삼성전자'), SelectionRan…"
      ]
     },
     "metadata": {},
     "output_type": "display_data"
    },
    {
     "data": {
      "text/plain": [
       "<function __main__.draw_chart(ticker, date_range, values, invest_alg)>"
      ]
     },
     "execution_count": 249,
     "metadata": {},
     "output_type": "execute_result"
    }
   ],
   "source": [
    "ticker_candidate = ['삼성전자','LG에너지솔루션']\n",
    "alg_candidate = [arima_rolling_window_invest, realistic_optimal]\n",
    "widgets.interact(draw_chart, ticker=ticker_candidate , date_range=selection_range_slider, values=selection_values, invest_alg=alg_candidate)"
   ]
  },
  {
   "cell_type": "markdown",
   "metadata": {},
   "source": [
    "<div class=\"alert alert-block alert-info\">\n",
    "<b> Tip:</b> draw_chart 함수를 개선해서, 거래량을 추가하거나 또는 두 개 이상의 회사 챠트를 그리는 것 도 가능 </b> <br>\n",
    "=> 나만의 주가 대시보드를 만들어보는 프로젝트도 가능!!\n",
    "</div>"
   ]
  },
  {
   "cell_type": "markdown",
   "metadata": {},
   "source": [
    "<img src=\"https://miro.medium.com/max/517/1*9xhiP7nD8Ur2c3nrnApQkQ.jpeg\">"
   ]
  }
 ],
 "metadata": {
  "kernelspec": {
   "display_name": "Python 3",
   "language": "python",
   "name": "python3"
  },
  "language_info": {
   "codemirror_mode": {
    "name": "ipython",
    "version": 3
   },
   "file_extension": ".py",
   "mimetype": "text/x-python",
   "name": "python",
   "nbconvert_exporter": "python",
   "pygments_lexer": "ipython3",
   "version": "3.7.8"
  },
  "toc-autonumbering": true
 },
 "nbformat": 4,
 "nbformat_minor": 4
}
