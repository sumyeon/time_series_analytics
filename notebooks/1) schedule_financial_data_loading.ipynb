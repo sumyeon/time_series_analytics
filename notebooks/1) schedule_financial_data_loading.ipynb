{
 "cells": [
  {
   "cell_type": "markdown",
   "metadata": {},
   "source": [
    "<font size=6> <b> Week #1 - Financial Data Reading </b> </font>\n",
    "<div class=\"alert alert-block alert-success\">\n",
    "  - Let's discuss the 10-weeks schedule. <br>\n",
    "  - As the first step to Time-Series data analysis, let's see\n",
    "  how wee can load financial data using 3rd-party libraries<br>\n",
    "    \n",
    "</div>\n",
    "</div>\n",
    "\n",
    "<p style=\"text-align:right;\"> sumyeon@gmail.com </p>\n"
   ]
  },
  {
   "cell_type": "markdown",
   "metadata": {},
   "source": [
    "<hr>"
   ]
  },
  {
   "cell_type": "markdown",
   "metadata": {},
   "source": [
    "# 10 weeks schedule"
   ]
  },
  {
   "cell_type": "markdown",
   "metadata": {},
   "source": [
    "### (my draft)"
   ]
  },
  {
   "cell_type": "markdown",
   "metadata": {
    "execution": {
     "iopub.execute_input": "2022-05-14T13:49:33.264806Z",
     "iopub.status.busy": "2022-05-14T13:49:33.264806Z",
     "iopub.status.idle": "2022-05-14T13:49:33.273803Z",
     "shell.execute_reply": "2022-05-14T13:49:33.271805Z",
     "shell.execute_reply.started": "2022-05-14T13:49:33.264806Z"
    }
   },
   "source": [
    "1) Greeting, Schedule, Financial Data Loading\n",
    "2) Time-Series Data Analysis Introduction I\n",
    "3) Time-Series Data Analysis Introduction II\n",
    "4) Visualization & Prediction Performance Measure\n",
    "5) Time-Series data prediction I : Idea, Implementation, Demo\n",
    "6) Time-Series data prediction II : Idea, Implementation, Demo\n",
    "7) Time-Series data prediction III : Idea, Implementation, Demo \n",
    "8) Time-Series data prediction IV : Idea, Implementation, Demo\n",
    "9) Time-Series data prediction V : Idea, Implementation, Demo \n",
    "10) Wrap-up : summary, lesson learned, to-do"
   ]
  },
  {
   "cell_type": "markdown",
   "metadata": {},
   "source": [
    "# Domain keywords"
   ]
  },
  {
   "cell_type": "markdown",
   "metadata": {},
   "source": [
    "<ul>\n",
    "    <li> Period: The frequency with which the data is collected; common selections are ‘1d’ (daily), ‘1mo’ (monthly), and ‘1y’ (yearly) </li>\n",
    "    <li> Start: The date on which the data collection will begin. For example, ‘2015–5–25′ </li>\n",
    "    <li> End: the date on which the data collection will be completed. For instance, ‘2021–9–25.’ </li>\n",
    "    <li> Open: The stock price at the start of that day/month/year. </li>\n",
    "    <li> Close: the stock price at the conclusion of that particular day/month/year </li>\n",
    "    <li> Adj Close: the stock price same as 'Close' but adjusted for dividends and splits.\n",
    "    <li> High: the stock’s highest price that day/month/year. </li>\n",
    "    <li> Low: the stock’s lowest price that day/month/year.</li>\n",
    "    <li> Volume: The number of shares traded that day/month/year.</li>\n",
    "</ul>"
   ]
  },
  {
   "cell_type": "markdown",
   "metadata": {},
   "source": [
    "# Pandas DataReaders\n",
    "- https://pydata.github.io/pandas-datareader/index.html# -\n",
    "- It support an API to download historical stock data from various sources such as World Bank, OECD, Yahoo Finance, Naver Finance, etc.\n",
    "- Originally, it aims to provide various data to pandas, but at the time most are related to financial data.\n",
    "- Naver Financial Data, Yahoo Financial Data."
   ]
  },
  {
   "cell_type": "markdown",
   "metadata": {},
   "source": [
    "<div class=\"alert alert-block alert-info\">\n",
    "[참조] 주식 데이터를 보는 경우, 기업 경영 상태에 대한 정보는 다트 (http://dart.fss.or.kr/)를 통해서 알아보자. <br>\n",
    "다트는 기업정보 전자공시 사이트로서 기업의 경영 상태에 대한 상세한 정보를 구할 수 있다. <br>\n",
    "(참고로, 미국과 유럽에는 없고 한국에만 있는 시스템이라 워렌 버핏이  극찬한 시스템이라고 함)\n",
    "</div>"
   ]
  },
  {
   "cell_type": "markdown",
   "metadata": {},
   "source": [
    "## package install"
   ]
  },
  {
   "cell_type": "markdown",
   "metadata": {},
   "source": [
    "> pip install pandas-datareader <br>\n",
    "> pip install --trusted-host pypi.org --trusted-host files.pythonhosted.org pandas-datareader "
   ]
  },
  {
   "cell_type": "markdown",
   "metadata": {},
   "source": [
    "## download data from Naver Finance (KOSPI, KOSDAQ)"
   ]
  },
  {
   "cell_type": "code",
   "execution_count": 16,
   "metadata": {
    "execution": {
     "iopub.execute_input": "2022-05-21T01:58:20.347197Z",
     "iopub.status.busy": "2022-05-21T01:58:20.347197Z",
     "iopub.status.idle": "2022-05-21T01:58:20.467187Z",
     "shell.execute_reply": "2022-05-21T01:58:20.465189Z",
     "shell.execute_reply.started": "2022-05-21T01:58:20.347197Z"
    }
   },
   "outputs": [
    {
     "data": {
      "text/html": [
       "<div>\n",
       "<style scoped>\n",
       "    .dataframe tbody tr th:only-of-type {\n",
       "        vertical-align: middle;\n",
       "    }\n",
       "\n",
       "    .dataframe tbody tr th {\n",
       "        vertical-align: top;\n",
       "    }\n",
       "\n",
       "    .dataframe thead th {\n",
       "        text-align: right;\n",
       "    }\n",
       "</style>\n",
       "<table border=\"1\" class=\"dataframe\">\n",
       "  <thead>\n",
       "    <tr style=\"text-align: right;\">\n",
       "      <th></th>\n",
       "      <th>Open</th>\n",
       "      <th>High</th>\n",
       "      <th>Low</th>\n",
       "      <th>Close</th>\n",
       "      <th>Volume</th>\n",
       "    </tr>\n",
       "    <tr>\n",
       "      <th>Date</th>\n",
       "      <th></th>\n",
       "      <th></th>\n",
       "      <th></th>\n",
       "      <th></th>\n",
       "      <th></th>\n",
       "    </tr>\n",
       "  </thead>\n",
       "  <tbody>\n",
       "    <tr>\n",
       "      <th>2019-09-10</th>\n",
       "      <td>47100</td>\n",
       "      <td>47200</td>\n",
       "      <td>46550</td>\n",
       "      <td>47000</td>\n",
       "      <td>9231792</td>\n",
       "    </tr>\n",
       "    <tr>\n",
       "      <th>2019-09-11</th>\n",
       "      <td>47300</td>\n",
       "      <td>47400</td>\n",
       "      <td>46800</td>\n",
       "      <td>47150</td>\n",
       "      <td>16141619</td>\n",
       "    </tr>\n",
       "    <tr>\n",
       "      <th>2019-09-16</th>\n",
       "      <td>47000</td>\n",
       "      <td>47100</td>\n",
       "      <td>46400</td>\n",
       "      <td>47100</td>\n",
       "      <td>15550926</td>\n",
       "    </tr>\n",
       "    <tr>\n",
       "      <th>2019-09-17</th>\n",
       "      <td>47000</td>\n",
       "      <td>47100</td>\n",
       "      <td>46800</td>\n",
       "      <td>46900</td>\n",
       "      <td>7006280</td>\n",
       "    </tr>\n",
       "    <tr>\n",
       "      <th>2019-09-18</th>\n",
       "      <td>46900</td>\n",
       "      <td>47700</td>\n",
       "      <td>46800</td>\n",
       "      <td>47700</td>\n",
       "      <td>10413027</td>\n",
       "    </tr>\n",
       "  </tbody>\n",
       "</table>\n",
       "</div>"
      ],
      "text/plain": [
       "             Open   High    Low  Close    Volume\n",
       "Date                                            \n",
       "2019-09-10  47100  47200  46550  47000   9231792\n",
       "2019-09-11  47300  47400  46800  47150  16141619\n",
       "2019-09-16  47000  47100  46400  47100  15550926\n",
       "2019-09-17  47000  47100  46800  46900   7006280\n",
       "2019-09-18  46900  47700  46800  47700  10413027"
      ]
     },
     "execution_count": 16,
     "metadata": {},
     "output_type": "execute_result"
    }
   ],
   "source": [
    "import pandas_datareader.data as web\n",
    "\n",
    "df = web.DataReader('005930', 'naver', start='2019-09-10', end='2019-10-09')\n",
    "df.head()"
   ]
  },
  {
   "cell_type": "markdown",
   "metadata": {},
   "source": [
    "## download data from Yahoo Finance (support 3 endpoints)\n",
    "- yahoo - retrieve daily stock prices (high, open, close, volu,e and adjusted close)\n",
    "- yahoo-actions - retrieve historical corporate actions (dividends and stock splits)\n",
    "- yahoo-dividends - retrieve historical dividends"
   ]
  },
  {
   "cell_type": "markdown",
   "metadata": {},
   "source": [
    "<div class=\"alert alert-block alert-danger\">\n",
    "  At the time, the server-side is not responding.  <br>  \n",
    "</div>\n"
   ]
  },
  {
   "cell_type": "code",
   "execution_count": 9,
   "metadata": {
    "execution": {
     "iopub.execute_input": "2022-05-14T13:19:04.755599Z",
     "iopub.status.busy": "2022-05-14T13:19:04.754600Z",
     "iopub.status.idle": "2022-05-14T13:19:04.770600Z",
     "shell.execute_reply": "2022-05-14T13:19:04.768604Z",
     "shell.execute_reply.started": "2022-05-14T13:19:04.755599Z"
    }
   },
   "outputs": [],
   "source": [
    "import pandas_datareader.data as web\n",
    "import pandas_datareader as pdr\n",
    "import pandas as pd\n",
    "import datetime as dt"
   ]
  },
  {
   "cell_type": "code",
   "execution_count": null,
   "metadata": {
    "execution": {
     "iopub.execute_input": "2022-05-14T13:13:00.333206Z",
     "iopub.status.busy": "2022-05-14T13:13:00.333206Z",
     "iopub.status.idle": "2022-05-14T13:13:04.318687Z",
     "shell.execute_reply": "2022-05-14T13:13:04.314696Z",
     "shell.execute_reply.started": "2022-05-14T13:13:00.333206Z"
    }
   },
   "outputs": [],
   "source": [
    "df = web.DataReader('GE', 'yahoo', start='2022-01-10', end='2022-02-09')\n",
    "df.head()"
   ]
  },
  {
   "cell_type": "code",
   "execution_count": null,
   "metadata": {
    "execution": {
     "iopub.execute_input": "2022-05-14T13:01:01.727143Z",
     "iopub.status.busy": "2022-05-14T13:01:01.727143Z",
     "iopub.status.idle": "2022-05-14T13:01:05.745006Z",
     "shell.execute_reply": "2022-05-14T13:01:05.743012Z",
     "shell.execute_reply.started": "2022-05-14T13:01:01.727143Z"
    }
   },
   "outputs": [],
   "source": [
    "start = dt.datetime(2010, 1, 29)\n",
    "end = dt.datetime.today()\n",
    "actions = web.DataReader('GOOG', 'yahoo-actions', start, end)\n",
    "actions.head()"
   ]
  },
  {
   "cell_type": "code",
   "execution_count": null,
   "metadata": {
    "execution": {
     "iopub.status.busy": "2022-05-14T13:00:35.161547Z",
     "iopub.status.idle": "2022-05-14T13:00:35.162547Z",
     "shell.execute_reply": "2022-05-14T13:00:35.162547Z"
    }
   },
   "outputs": [],
   "source": [
    "dividends = web.DataReader('IBM', 'yahoo-dividends', start, end)\n",
    "dividends.head()\n"
   ]
  },
  {
   "cell_type": "markdown",
   "metadata": {},
   "source": [
    "# yfinance (Yahoo Finance)\n",
    "- https://pypi.org/project/yfinance/\n",
    "- download market data from yahoo finance"
   ]
  },
  {
   "cell_type": "markdown",
   "metadata": {},
   "source": [
    "## package install"
   ]
  },
  {
   "cell_type": "markdown",
   "metadata": {},
   "source": [
    "> pip install yfinance <br>\n",
    "> pip install --trusted-host pypi.org --trusted-host files.pythonhosted.org yfinance"
   ]
  },
  {
   "cell_type": "markdown",
   "metadata": {},
   "source": [
    "## download data from Yahoo Finance (simple way)"
   ]
  },
  {
   "cell_type": "code",
   "execution_count": 59,
   "metadata": {
    "execution": {
     "iopub.execute_input": "2022-05-15T02:04:26.205922Z",
     "iopub.status.busy": "2022-05-15T02:04:26.204922Z",
     "iopub.status.idle": "2022-05-15T02:04:26.505116Z",
     "shell.execute_reply": "2022-05-15T02:04:26.503105Z",
     "shell.execute_reply.started": "2022-05-15T02:04:26.205922Z"
    }
   },
   "outputs": [
    {
     "name": "stdout",
     "output_type": "stream",
     "text": [
      "[*********************100%***********************]  1 of 1 completed\n"
     ]
    },
    {
     "data": {
      "text/html": [
       "<div>\n",
       "<style scoped>\n",
       "    .dataframe tbody tr th:only-of-type {\n",
       "        vertical-align: middle;\n",
       "    }\n",
       "\n",
       "    .dataframe tbody tr th {\n",
       "        vertical-align: top;\n",
       "    }\n",
       "\n",
       "    .dataframe thead th {\n",
       "        text-align: right;\n",
       "    }\n",
       "</style>\n",
       "<table border=\"1\" class=\"dataframe\">\n",
       "  <thead>\n",
       "    <tr style=\"text-align: right;\">\n",
       "      <th></th>\n",
       "      <th>Open</th>\n",
       "      <th>High</th>\n",
       "      <th>Low</th>\n",
       "      <th>Close</th>\n",
       "      <th>Adj Close</th>\n",
       "      <th>Volume</th>\n",
       "    </tr>\n",
       "    <tr>\n",
       "      <th>Date</th>\n",
       "      <th></th>\n",
       "      <th></th>\n",
       "      <th></th>\n",
       "      <th></th>\n",
       "      <th></th>\n",
       "      <th></th>\n",
       "    </tr>\n",
       "  </thead>\n",
       "  <tbody>\n",
       "    <tr>\n",
       "      <th>2020-12-31</th>\n",
       "      <td>92.099998</td>\n",
       "      <td>92.300003</td>\n",
       "      <td>90.870003</td>\n",
       "      <td>91.709999</td>\n",
       "      <td>91.709999</td>\n",
       "      <td>24930700</td>\n",
       "    </tr>\n",
       "    <tr>\n",
       "      <th>2021-01-04</th>\n",
       "      <td>92.110001</td>\n",
       "      <td>96.059998</td>\n",
       "      <td>90.919998</td>\n",
       "      <td>92.300003</td>\n",
       "      <td>92.300003</td>\n",
       "      <td>51802600</td>\n",
       "    </tr>\n",
       "    <tr>\n",
       "      <th>2021-01-05</th>\n",
       "      <td>92.099998</td>\n",
       "      <td>93.209999</td>\n",
       "      <td>91.410004</td>\n",
       "      <td>92.769997</td>\n",
       "      <td>92.769997</td>\n",
       "      <td>34208000</td>\n",
       "    </tr>\n",
       "    <tr>\n",
       "      <th>2021-01-06</th>\n",
       "      <td>91.620003</td>\n",
       "      <td>92.279999</td>\n",
       "      <td>89.459999</td>\n",
       "      <td>90.330002</td>\n",
       "      <td>90.330002</td>\n",
       "      <td>51911700</td>\n",
       "    </tr>\n",
       "    <tr>\n",
       "      <th>2021-01-07</th>\n",
       "      <td>91.330002</td>\n",
       "      <td>95.510002</td>\n",
       "      <td>91.199997</td>\n",
       "      <td>95.160004</td>\n",
       "      <td>95.160004</td>\n",
       "      <td>42897200</td>\n",
       "    </tr>\n",
       "  </tbody>\n",
       "</table>\n",
       "</div>"
      ],
      "text/plain": [
       "                 Open       High        Low      Close  Adj Close    Volume\n",
       "Date                                                                       \n",
       "2020-12-31  92.099998  92.300003  90.870003  91.709999  91.709999  24930700\n",
       "2021-01-04  92.110001  96.059998  90.919998  92.300003  92.300003  51802600\n",
       "2021-01-05  92.099998  93.209999  91.410004  92.769997  92.769997  34208000\n",
       "2021-01-06  91.620003  92.279999  89.459999  90.330002  90.330002  51911700\n",
       "2021-01-07  91.330002  95.510002  91.199997  95.160004  95.160004  42897200"
      ]
     },
     "execution_count": 59,
     "metadata": {},
     "output_type": "execute_result"
    }
   ],
   "source": [
    "import yfinance as yf\n",
    "df = yf.download('AMD','2021-01-01','2021-09-30')\n",
    "df.head()"
   ]
  },
  {
   "cell_type": "markdown",
   "metadata": {},
   "source": [
    "## Ticker-related API"
   ]
  },
  {
   "cell_type": "code",
   "execution_count": null,
   "metadata": {
    "execution": {
     "iopub.execute_input": "2022-05-15T02:04:20.403337Z",
     "iopub.status.busy": "2022-05-15T02:04:20.402332Z",
     "iopub.status.idle": "2022-05-15T02:04:26.203926Z",
     "shell.execute_reply": "2022-05-15T02:04:26.201931Z",
     "shell.execute_reply.started": "2022-05-15T02:04:20.403337Z"
    }
   },
   "outputs": [],
   "source": [
    "msft = yf.Ticker(\"MSFT\")\n",
    "\n",
    "# get stock info\n",
    "msft.info"
   ]
  },
  {
   "cell_type": "code",
   "execution_count": 61,
   "metadata": {
    "execution": {
     "iopub.execute_input": "2022-05-15T02:05:22.198412Z",
     "iopub.status.busy": "2022-05-15T02:05:22.197422Z",
     "iopub.status.idle": "2022-05-15T02:05:22.910486Z",
     "shell.execute_reply": "2022-05-15T02:05:22.909492Z",
     "shell.execute_reply.started": "2022-05-15T02:05:22.198412Z"
    }
   },
   "outputs": [
    {
     "data": {
      "text/html": [
       "<div>\n",
       "<style scoped>\n",
       "    .dataframe tbody tr th:only-of-type {\n",
       "        vertical-align: middle;\n",
       "    }\n",
       "\n",
       "    .dataframe tbody tr th {\n",
       "        vertical-align: top;\n",
       "    }\n",
       "\n",
       "    .dataframe thead th {\n",
       "        text-align: right;\n",
       "    }\n",
       "</style>\n",
       "<table border=\"1\" class=\"dataframe\">\n",
       "  <thead>\n",
       "    <tr style=\"text-align: right;\">\n",
       "      <th></th>\n",
       "      <th>Open</th>\n",
       "      <th>High</th>\n",
       "      <th>Low</th>\n",
       "      <th>Close</th>\n",
       "      <th>Volume</th>\n",
       "      <th>Dividends</th>\n",
       "      <th>Stock Splits</th>\n",
       "    </tr>\n",
       "    <tr>\n",
       "      <th>Date</th>\n",
       "      <th></th>\n",
       "      <th></th>\n",
       "      <th></th>\n",
       "      <th></th>\n",
       "      <th></th>\n",
       "      <th></th>\n",
       "      <th></th>\n",
       "    </tr>\n",
       "  </thead>\n",
       "  <tbody>\n",
       "    <tr>\n",
       "      <th>1986-03-13</th>\n",
       "      <td>0.055783</td>\n",
       "      <td>0.063987</td>\n",
       "      <td>0.055783</td>\n",
       "      <td>0.061252</td>\n",
       "      <td>1031788800</td>\n",
       "      <td>0.0</td>\n",
       "      <td>0.0</td>\n",
       "    </tr>\n",
       "    <tr>\n",
       "      <th>1986-03-14</th>\n",
       "      <td>0.061252</td>\n",
       "      <td>0.064533</td>\n",
       "      <td>0.061252</td>\n",
       "      <td>0.063439</td>\n",
       "      <td>308160000</td>\n",
       "      <td>0.0</td>\n",
       "      <td>0.0</td>\n",
       "    </tr>\n",
       "    <tr>\n",
       "      <th>1986-03-17</th>\n",
       "      <td>0.063439</td>\n",
       "      <td>0.065080</td>\n",
       "      <td>0.063439</td>\n",
       "      <td>0.064533</td>\n",
       "      <td>133171200</td>\n",
       "      <td>0.0</td>\n",
       "      <td>0.0</td>\n",
       "    </tr>\n",
       "    <tr>\n",
       "      <th>1986-03-18</th>\n",
       "      <td>0.064533</td>\n",
       "      <td>0.065080</td>\n",
       "      <td>0.062345</td>\n",
       "      <td>0.062892</td>\n",
       "      <td>67766400</td>\n",
       "      <td>0.0</td>\n",
       "      <td>0.0</td>\n",
       "    </tr>\n",
       "    <tr>\n",
       "      <th>1986-03-19</th>\n",
       "      <td>0.062892</td>\n",
       "      <td>0.063439</td>\n",
       "      <td>0.061252</td>\n",
       "      <td>0.061799</td>\n",
       "      <td>47894400</td>\n",
       "      <td>0.0</td>\n",
       "      <td>0.0</td>\n",
       "    </tr>\n",
       "    <tr>\n",
       "      <th>...</th>\n",
       "      <td>...</td>\n",
       "      <td>...</td>\n",
       "      <td>...</td>\n",
       "      <td>...</td>\n",
       "      <td>...</td>\n",
       "      <td>...</td>\n",
       "      <td>...</td>\n",
       "    </tr>\n",
       "    <tr>\n",
       "      <th>2022-05-09</th>\n",
       "      <td>270.059998</td>\n",
       "      <td>272.359985</td>\n",
       "      <td>263.320007</td>\n",
       "      <td>264.579987</td>\n",
       "      <td>47726000</td>\n",
       "      <td>0.0</td>\n",
       "      <td>0.0</td>\n",
       "    </tr>\n",
       "    <tr>\n",
       "      <th>2022-05-10</th>\n",
       "      <td>271.690002</td>\n",
       "      <td>273.750000</td>\n",
       "      <td>265.070007</td>\n",
       "      <td>269.500000</td>\n",
       "      <td>39336400</td>\n",
       "      <td>0.0</td>\n",
       "      <td>0.0</td>\n",
       "    </tr>\n",
       "    <tr>\n",
       "      <th>2022-05-11</th>\n",
       "      <td>265.679993</td>\n",
       "      <td>271.359985</td>\n",
       "      <td>259.299988</td>\n",
       "      <td>260.549988</td>\n",
       "      <td>48975900</td>\n",
       "      <td>0.0</td>\n",
       "      <td>0.0</td>\n",
       "    </tr>\n",
       "    <tr>\n",
       "      <th>2022-05-12</th>\n",
       "      <td>257.690002</td>\n",
       "      <td>259.880005</td>\n",
       "      <td>250.020004</td>\n",
       "      <td>255.350006</td>\n",
       "      <td>51033800</td>\n",
       "      <td>0.0</td>\n",
       "      <td>0.0</td>\n",
       "    </tr>\n",
       "    <tr>\n",
       "      <th>2022-05-13</th>\n",
       "      <td>257.350006</td>\n",
       "      <td>263.040009</td>\n",
       "      <td>255.350006</td>\n",
       "      <td>261.119995</td>\n",
       "      <td>34893400</td>\n",
       "      <td>0.0</td>\n",
       "      <td>0.0</td>\n",
       "    </tr>\n",
       "  </tbody>\n",
       "</table>\n",
       "<p>9118 rows × 7 columns</p>\n",
       "</div>"
      ],
      "text/plain": [
       "                  Open        High         Low       Close      Volume  \\\n",
       "Date                                                                     \n",
       "1986-03-13    0.055783    0.063987    0.055783    0.061252  1031788800   \n",
       "1986-03-14    0.061252    0.064533    0.061252    0.063439   308160000   \n",
       "1986-03-17    0.063439    0.065080    0.063439    0.064533   133171200   \n",
       "1986-03-18    0.064533    0.065080    0.062345    0.062892    67766400   \n",
       "1986-03-19    0.062892    0.063439    0.061252    0.061799    47894400   \n",
       "...                ...         ...         ...         ...         ...   \n",
       "2022-05-09  270.059998  272.359985  263.320007  264.579987    47726000   \n",
       "2022-05-10  271.690002  273.750000  265.070007  269.500000    39336400   \n",
       "2022-05-11  265.679993  271.359985  259.299988  260.549988    48975900   \n",
       "2022-05-12  257.690002  259.880005  250.020004  255.350006    51033800   \n",
       "2022-05-13  257.350006  263.040009  255.350006  261.119995    34893400   \n",
       "\n",
       "            Dividends  Stock Splits  \n",
       "Date                                 \n",
       "1986-03-13        0.0           0.0  \n",
       "1986-03-14        0.0           0.0  \n",
       "1986-03-17        0.0           0.0  \n",
       "1986-03-18        0.0           0.0  \n",
       "1986-03-19        0.0           0.0  \n",
       "...               ...           ...  \n",
       "2022-05-09        0.0           0.0  \n",
       "2022-05-10        0.0           0.0  \n",
       "2022-05-11        0.0           0.0  \n",
       "2022-05-12        0.0           0.0  \n",
       "2022-05-13        0.0           0.0  \n",
       "\n",
       "[9118 rows x 7 columns]"
      ]
     },
     "execution_count": 61,
     "metadata": {},
     "output_type": "execute_result"
    }
   ],
   "source": [
    "hist = msft.history(period=\"max\")\n",
    "hist"
   ]
  },
  {
   "cell_type": "code",
   "execution_count": null,
   "metadata": {
    "execution": {
     "iopub.execute_input": "2022-05-15T02:07:45.534665Z",
     "iopub.status.busy": "2022-05-15T02:07:45.533667Z",
     "iopub.status.idle": "2022-05-15T02:07:47.302677Z",
     "shell.execute_reply": "2022-05-15T02:07:47.301672Z",
     "shell.execute_reply.started": "2022-05-15T02:07:45.534665Z"
    }
   },
   "outputs": [],
   "source": [
    "# show financials\n",
    "msft.financials\n",
    "msft.quarterly_financials\n",
    "# show major holders\n",
    "msft.major_holders\n",
    "# show institutional holders\n",
    "msft.institutional_holders\n",
    "# show balance sheet\n",
    "msft.balance_sheet\n",
    "msft.quarterly_balance_sheet\n",
    "# show cashflow\n",
    "msft.cashflow\n",
    "msft.quarterly_cashflow\n",
    "# show earnings\n",
    "msft.earnings\n",
    "msft.quarterly_earnings\n",
    "# show sustainability\n",
    "msft.sustainability\n",
    "# show analysts recommendations\n",
    "msft.recommendations\n",
    "# show next event (earnings, etc)\n",
    "msft.calendar\n",
    "# show ISIN code - *experimental*\n",
    "# ISIN = International Securities Identification Number\n",
    "msft.isin\n",
    "# show options expirations\n",
    "msft.options\n",
    "# show news\n",
    "msft.news\n",
    "# get option chain for specific expiration\n",
    "opt = msft.option_chain('YYYY-MM-DD')\n",
    "# data available via: opt.calls, opt.puts"
   ]
  },
  {
   "cell_type": "markdown",
   "metadata": {},
   "source": [
    "# PyKRX\n",
    "- https://github.com/sharebook-kr/pykrx\n",
    "- Data scraping module from KRX, Naver"
   ]
  },
  {
   "cell_type": "markdown",
   "metadata": {},
   "source": [
    "<div class=\"alert alert-block alert-danger\">\n",
    "  This module provides a various kind of APIs. However, at the time, most APIs are not working. <br>  \n",
    "</div>\n"
   ]
  },
  {
   "cell_type": "markdown",
   "metadata": {},
   "source": [
    "# Meta-Data (addition data for time-series data)\n",
    "- name/category/etc. data for korean stock market"
   ]
  },
  {
   "cell_type": "markdown",
   "metadata": {},
   "source": [
    "## 한국 증권 거래소에서 상장회사 정보를 다운받아 준비\n",
    " - http://marketdata.krx.co.kr/mdi#document=040601"
   ]
  },
  {
   "cell_type": "code",
   "execution_count": 40,
   "metadata": {
    "execution": {
     "iopub.execute_input": "2022-05-14T13:45:27.824037Z",
     "iopub.status.busy": "2022-05-14T13:45:27.824037Z",
     "iopub.status.idle": "2022-05-14T13:45:29.163427Z",
     "shell.execute_reply": "2022-05-14T13:45:29.162430Z",
     "shell.execute_reply.started": "2022-05-14T13:45:27.824037Z"
    }
   },
   "outputs": [],
   "source": [
    "metadf = pd.read_html('http://kind.krx.co.kr/corpgeneral/corpList.do?method=download&searchType=13', header=0)[0]"
   ]
  },
  {
   "cell_type": "code",
   "execution_count": 44,
   "metadata": {
    "execution": {
     "iopub.execute_input": "2022-05-14T13:45:49.011321Z",
     "iopub.status.busy": "2022-05-14T13:45:49.010338Z",
     "iopub.status.idle": "2022-05-14T13:45:49.031323Z",
     "shell.execute_reply": "2022-05-14T13:45:49.030323Z",
     "shell.execute_reply.started": "2022-05-14T13:45:49.011321Z"
    }
   },
   "outputs": [
    {
     "data": {
      "text/html": [
       "<div>\n",
       "<style scoped>\n",
       "    .dataframe tbody tr th:only-of-type {\n",
       "        vertical-align: middle;\n",
       "    }\n",
       "\n",
       "    .dataframe tbody tr th {\n",
       "        vertical-align: top;\n",
       "    }\n",
       "\n",
       "    .dataframe thead th {\n",
       "        text-align: right;\n",
       "    }\n",
       "</style>\n",
       "<table border=\"1\" class=\"dataframe\">\n",
       "  <thead>\n",
       "    <tr style=\"text-align: right;\">\n",
       "      <th></th>\n",
       "      <th>회사명</th>\n",
       "      <th>종목코드</th>\n",
       "      <th>업종</th>\n",
       "      <th>주요제품</th>\n",
       "      <th>상장일</th>\n",
       "      <th>결산월</th>\n",
       "      <th>대표자명</th>\n",
       "      <th>홈페이지</th>\n",
       "      <th>지역</th>\n",
       "    </tr>\n",
       "  </thead>\n",
       "  <tbody>\n",
       "    <tr>\n",
       "      <th>0</th>\n",
       "      <td>DL</td>\n",
       "      <td>000210</td>\n",
       "      <td>기타 금융업</td>\n",
       "      <td>지주회사</td>\n",
       "      <td>1976-02-02</td>\n",
       "      <td>12월</td>\n",
       "      <td>전병욱</td>\n",
       "      <td>http://www.dlholdings.co.kr</td>\n",
       "      <td>서울특별시</td>\n",
       "    </tr>\n",
       "    <tr>\n",
       "      <th>1</th>\n",
       "      <td>DRB동일</td>\n",
       "      <td>004840</td>\n",
       "      <td>고무제품 제조업</td>\n",
       "      <td>고무벨트(V벨트,콘베이어벨트,평벨트),프라스틱제품 제조,판매</td>\n",
       "      <td>1976-05-21</td>\n",
       "      <td>12월</td>\n",
       "      <td>류영식</td>\n",
       "      <td>http://drbworld.com</td>\n",
       "      <td>부산광역시</td>\n",
       "    </tr>\n",
       "    <tr>\n",
       "      <th>2</th>\n",
       "      <td>DSR</td>\n",
       "      <td>155660</td>\n",
       "      <td>1차 비철금속 제조업</td>\n",
       "      <td>합섬섬유로프</td>\n",
       "      <td>2013-05-15</td>\n",
       "      <td>12월</td>\n",
       "      <td>홍석빈</td>\n",
       "      <td>http://www.dsr.com</td>\n",
       "      <td>부산광역시</td>\n",
       "    </tr>\n",
       "    <tr>\n",
       "      <th>3</th>\n",
       "      <td>GS</td>\n",
       "      <td>078930</td>\n",
       "      <td>기타 금융업</td>\n",
       "      <td>지주회사/부동산 임대</td>\n",
       "      <td>2004-08-05</td>\n",
       "      <td>12월</td>\n",
       "      <td>허태수, 홍순기 (각자 대표이사)</td>\n",
       "      <td>NaN</td>\n",
       "      <td>서울특별시</td>\n",
       "    </tr>\n",
       "    <tr>\n",
       "      <th>4</th>\n",
       "      <td>KG케미칼</td>\n",
       "      <td>001390</td>\n",
       "      <td>기초 화학물질 제조업</td>\n",
       "      <td>콘크리트혼화제, 비료, 친환경농자재, 수처리제</td>\n",
       "      <td>1989-08-25</td>\n",
       "      <td>12월</td>\n",
       "      <td>곽정현, 김재익</td>\n",
       "      <td>http://www.kgchem.co.kr</td>\n",
       "      <td>울산광역시</td>\n",
       "    </tr>\n",
       "  </tbody>\n",
       "</table>\n",
       "</div>"
      ],
      "text/plain": [
       "     회사명    종목코드           업종                               주요제품         상장일  \\\n",
       "0     DL  000210       기타 금융업                               지주회사  1976-02-02   \n",
       "1  DRB동일  004840     고무제품 제조업  고무벨트(V벨트,콘베이어벨트,평벨트),프라스틱제품 제조,판매  1976-05-21   \n",
       "2    DSR  155660  1차 비철금속 제조업                             합섬섬유로프  2013-05-15   \n",
       "3     GS  078930       기타 금융업                        지주회사/부동산 임대  2004-08-05   \n",
       "4  KG케미칼  001390  기초 화학물질 제조업          콘크리트혼화제, 비료, 친환경농자재, 수처리제  1989-08-25   \n",
       "\n",
       "   결산월                대표자명                         홈페이지     지역  \n",
       "0  12월                 전병욱  http://www.dlholdings.co.kr  서울특별시  \n",
       "1  12월                 류영식          http://drbworld.com  부산광역시  \n",
       "2  12월                 홍석빈           http://www.dsr.com  부산광역시  \n",
       "3  12월  허태수, 홍순기 (각자 대표이사)                          NaN  서울특별시  \n",
       "4  12월            곽정현, 김재익      http://www.kgchem.co.kr  울산광역시  "
      ]
     },
     "execution_count": 44,
     "metadata": {},
     "output_type": "execute_result"
    }
   ],
   "source": [
    "metadf.head()"
   ]
  },
  {
   "cell_type": "code",
   "execution_count": 42,
   "metadata": {
    "execution": {
     "iopub.execute_input": "2022-05-14T13:45:29.418454Z",
     "iopub.status.busy": "2022-05-14T13:45:29.417453Z",
     "iopub.status.idle": "2022-05-14T13:45:29.434464Z",
     "shell.execute_reply": "2022-05-14T13:45:29.433462Z",
     "shell.execute_reply.started": "2022-05-14T13:45:29.418454Z"
    }
   },
   "outputs": [],
   "source": [
    "metadf['종목코드'] = (metadf['종목코드'].apply(lambda x : f\"{x:06}\")).astype(str)"
   ]
  },
  {
   "cell_type": "markdown",
   "metadata": {},
   "source": [
    "### 회사명 <--> 종목코드간 변환 위한 dictionary 준비"
   ]
  },
  {
   "cell_type": "code",
   "execution_count": 51,
   "metadata": {
    "execution": {
     "iopub.execute_input": "2022-05-14T13:47:23.010647Z",
     "iopub.status.busy": "2022-05-14T13:47:23.010647Z",
     "iopub.status.idle": "2022-05-14T13:47:23.017633Z",
     "shell.execute_reply": "2022-05-14T13:47:23.016641Z",
     "shell.execute_reply.started": "2022-05-14T13:47:23.010647Z"
    }
   },
   "outputs": [],
   "source": [
    "name2code_dict = dict(zip( metadf['회사명'].values, metadf['종목코드'].values))\n",
    "code2name_dict = dict(zip( metadf['종목코드'].values, metadf['회사명'].values))"
   ]
  },
  {
   "cell_type": "markdown",
   "metadata": {},
   "source": [
    "# All-in-one"
   ]
  },
  {
   "cell_type": "code",
   "execution_count": 1,
   "metadata": {
    "execution": {
     "iopub.execute_input": "2022-06-11T01:01:16.743628Z",
     "iopub.status.busy": "2022-06-11T01:01:16.743628Z",
     "iopub.status.idle": "2022-06-11T01:01:18.407641Z",
     "shell.execute_reply": "2022-06-11T01:01:18.406653Z",
     "shell.execute_reply.started": "2022-06-11T01:01:16.743628Z"
    }
   },
   "outputs": [],
   "source": [
    "metadf = pd.read_html('http://kind.krx.co.kr/corpgeneral/corpList.do?method=download&searchType=13', header=0)[0]\n",
    "metadf['종목코드'] = (metadf['종목코드'].apply(lambda x : f\"{x:06}\")).astype(str)\n",
    "name2code_dict = dict(zip( metadf['회사명'].values, metadf['종목코드'].values))\n",
    "code2name_dict = dict(zip( metadf['종목코드'].values, metadf['회사명'].values))"
   ]
  },
  {
   "cell_type": "code",
   "execution_count": 41,
   "metadata": {
    "execution": {
     "iopub.execute_input": "2022-06-11T01:46:26.991970Z",
     "iopub.status.busy": "2022-06-11T01:46:26.991970Z",
     "iopub.status.idle": "2022-06-11T01:46:27.002974Z",
     "shell.execute_reply": "2022-06-11T01:46:27.001972Z",
     "shell.execute_reply.started": "2022-06-11T01:46:26.991970Z"
    }
   },
   "outputs": [],
   "source": [
    "import pandas_datareader as pdr\n",
    "import pandas_datareader.data as pdrdata\n",
    "import pandas as pd\n",
    "import datetime"
   ]
  },
  {
   "cell_type": "code",
   "execution_count": 42,
   "metadata": {
    "execution": {
     "iopub.execute_input": "2022-06-11T01:46:30.091106Z",
     "iopub.status.busy": "2022-06-11T01:46:30.090108Z",
     "iopub.status.idle": "2022-06-11T01:46:30.106102Z",
     "shell.execute_reply": "2022-06-11T01:46:30.105111Z",
     "shell.execute_reply.started": "2022-06-11T01:46:30.091106Z"
    }
   },
   "outputs": [],
   "source": [
    "def getStockHistory(target, start='2019-01-01', end=datetime.datetime.now().strftime('%Y-%m-%d')):\n",
    "    \"\"\"\n",
    "    return the stock histories of the companies given\n",
    "    \n",
    "    Parameters:\n",
    "        target   : str, int - a company name (str) or code (int)\n",
    "        start    : str - start date string\n",
    "        end      : str - end date string\n",
    "        \n",
    "    Returns:\n",
    "        list : list of stock history data frame\n",
    "    \"\"\"\n",
    "    \n",
    "    # name <-> code \n",
    "    if isinstance(target, str) and not target.isnumeric():\n",
    "        tickername = target\n",
    "        ticker = name2code_dict[target]\n",
    "    else:\n",
    "        ticker = target\n",
    "        tickername = code2name_dict[target]\n",
    "        \n",
    "    stockdf = pdrdata.DataReader(ticker, 'naver', start, end)\n",
    "    for col in stockdf:\n",
    "        stockdf[col] = stockdf[col].astype(int)\n",
    "    stockdf = stockdf.assign(tickername=tickername, tickercode=ticker)\n",
    "    return stockdf"
   ]
  },
  {
   "cell_type": "code",
   "execution_count": 43,
   "metadata": {
    "execution": {
     "iopub.execute_input": "2022-06-11T01:46:30.772177Z",
     "iopub.status.busy": "2022-06-11T01:46:30.771177Z",
     "iopub.status.idle": "2022-06-11T01:46:30.871250Z",
     "shell.execute_reply": "2022-06-11T01:46:30.869247Z",
     "shell.execute_reply.started": "2022-06-11T01:46:30.771177Z"
    }
   },
   "outputs": [
    {
     "data": {
      "text/html": [
       "<div>\n",
       "<style scoped>\n",
       "    .dataframe tbody tr th:only-of-type {\n",
       "        vertical-align: middle;\n",
       "    }\n",
       "\n",
       "    .dataframe tbody tr th {\n",
       "        vertical-align: top;\n",
       "    }\n",
       "\n",
       "    .dataframe thead th {\n",
       "        text-align: right;\n",
       "    }\n",
       "</style>\n",
       "<table border=\"1\" class=\"dataframe\">\n",
       "  <thead>\n",
       "    <tr style=\"text-align: right;\">\n",
       "      <th></th>\n",
       "      <th>Open</th>\n",
       "      <th>High</th>\n",
       "      <th>Low</th>\n",
       "      <th>Close</th>\n",
       "      <th>Volume</th>\n",
       "      <th>tickername</th>\n",
       "      <th>tickercode</th>\n",
       "    </tr>\n",
       "    <tr>\n",
       "      <th>Date</th>\n",
       "      <th></th>\n",
       "      <th></th>\n",
       "      <th></th>\n",
       "      <th></th>\n",
       "      <th></th>\n",
       "      <th></th>\n",
       "      <th></th>\n",
       "    </tr>\n",
       "  </thead>\n",
       "  <tbody>\n",
       "    <tr>\n",
       "      <th>2022-01-03</th>\n",
       "      <td>79400</td>\n",
       "      <td>79800</td>\n",
       "      <td>78200</td>\n",
       "      <td>78600</td>\n",
       "      <td>13502112</td>\n",
       "      <td>삼성전자</td>\n",
       "      <td>005930</td>\n",
       "    </tr>\n",
       "    <tr>\n",
       "      <th>2022-01-04</th>\n",
       "      <td>78800</td>\n",
       "      <td>79200</td>\n",
       "      <td>78300</td>\n",
       "      <td>78700</td>\n",
       "      <td>12427416</td>\n",
       "      <td>삼성전자</td>\n",
       "      <td>005930</td>\n",
       "    </tr>\n",
       "    <tr>\n",
       "      <th>2022-01-05</th>\n",
       "      <td>78800</td>\n",
       "      <td>79000</td>\n",
       "      <td>76400</td>\n",
       "      <td>77400</td>\n",
       "      <td>25470640</td>\n",
       "      <td>삼성전자</td>\n",
       "      <td>005930</td>\n",
       "    </tr>\n",
       "    <tr>\n",
       "      <th>2022-01-06</th>\n",
       "      <td>76700</td>\n",
       "      <td>77600</td>\n",
       "      <td>76600</td>\n",
       "      <td>76900</td>\n",
       "      <td>12931954</td>\n",
       "      <td>삼성전자</td>\n",
       "      <td>005930</td>\n",
       "    </tr>\n",
       "    <tr>\n",
       "      <th>2022-01-07</th>\n",
       "      <td>78100</td>\n",
       "      <td>78400</td>\n",
       "      <td>77400</td>\n",
       "      <td>78300</td>\n",
       "      <td>15163757</td>\n",
       "      <td>삼성전자</td>\n",
       "      <td>005930</td>\n",
       "    </tr>\n",
       "    <tr>\n",
       "      <th>...</th>\n",
       "      <td>...</td>\n",
       "      <td>...</td>\n",
       "      <td>...</td>\n",
       "      <td>...</td>\n",
       "      <td>...</td>\n",
       "      <td>...</td>\n",
       "      <td>...</td>\n",
       "    </tr>\n",
       "    <tr>\n",
       "      <th>2022-06-03</th>\n",
       "      <td>67200</td>\n",
       "      <td>67300</td>\n",
       "      <td>66800</td>\n",
       "      <td>66800</td>\n",
       "      <td>8222883</td>\n",
       "      <td>삼성전자</td>\n",
       "      <td>005930</td>\n",
       "    </tr>\n",
       "    <tr>\n",
       "      <th>2022-06-07</th>\n",
       "      <td>66200</td>\n",
       "      <td>66400</td>\n",
       "      <td>65400</td>\n",
       "      <td>65500</td>\n",
       "      <td>19355755</td>\n",
       "      <td>삼성전자</td>\n",
       "      <td>005930</td>\n",
       "    </tr>\n",
       "    <tr>\n",
       "      <th>2022-06-08</th>\n",
       "      <td>65400</td>\n",
       "      <td>65700</td>\n",
       "      <td>65300</td>\n",
       "      <td>65300</td>\n",
       "      <td>12483180</td>\n",
       "      <td>삼성전자</td>\n",
       "      <td>005930</td>\n",
       "    </tr>\n",
       "    <tr>\n",
       "      <th>2022-06-09</th>\n",
       "      <td>65100</td>\n",
       "      <td>65200</td>\n",
       "      <td>64500</td>\n",
       "      <td>65200</td>\n",
       "      <td>25790725</td>\n",
       "      <td>삼성전자</td>\n",
       "      <td>005930</td>\n",
       "    </tr>\n",
       "    <tr>\n",
       "      <th>2022-06-10</th>\n",
       "      <td>64000</td>\n",
       "      <td>64400</td>\n",
       "      <td>63800</td>\n",
       "      <td>63800</td>\n",
       "      <td>22022851</td>\n",
       "      <td>삼성전자</td>\n",
       "      <td>005930</td>\n",
       "    </tr>\n",
       "  </tbody>\n",
       "</table>\n",
       "<p>107 rows × 7 columns</p>\n",
       "</div>"
      ],
      "text/plain": [
       "             Open   High    Low  Close    Volume tickername tickercode\n",
       "Date                                                                  \n",
       "2022-01-03  79400  79800  78200  78600  13502112       삼성전자     005930\n",
       "2022-01-04  78800  79200  78300  78700  12427416       삼성전자     005930\n",
       "2022-01-05  78800  79000  76400  77400  25470640       삼성전자     005930\n",
       "2022-01-06  76700  77600  76600  76900  12931954       삼성전자     005930\n",
       "2022-01-07  78100  78400  77400  78300  15163757       삼성전자     005930\n",
       "...           ...    ...    ...    ...       ...        ...        ...\n",
       "2022-06-03  67200  67300  66800  66800   8222883       삼성전자     005930\n",
       "2022-06-07  66200  66400  65400  65500  19355755       삼성전자     005930\n",
       "2022-06-08  65400  65700  65300  65300  12483180       삼성전자     005930\n",
       "2022-06-09  65100  65200  64500  65200  25790725       삼성전자     005930\n",
       "2022-06-10  64000  64400  63800  63800  22022851       삼성전자     005930\n",
       "\n",
       "[107 rows x 7 columns]"
      ]
     },
     "execution_count": 43,
     "metadata": {},
     "output_type": "execute_result"
    }
   ],
   "source": [
    "getStockHistory(\"삼성전자\", start='2022-01-01')"
   ]
  }
 ],
 "metadata": {
  "kernelspec": {
   "display_name": "Python 3",
   "language": "python",
   "name": "python3"
  },
  "language_info": {
   "codemirror_mode": {
    "name": "ipython",
    "version": 3
   },
   "file_extension": ".py",
   "mimetype": "text/x-python",
   "name": "python",
   "nbconvert_exporter": "python",
   "pygments_lexer": "ipython3",
   "version": "3.7.8"
  },
  "toc-autonumbering": true
 },
 "nbformat": 4,
 "nbformat_minor": 4
}
